{
 "cells": [
  {
   "cell_type": "code",
   "execution_count": 108,
   "id": "cee54316-55e7-44d0-a1e2-19f838a58925",
   "metadata": {},
   "outputs": [],
   "source": [
    "import pandas as pd\n",
    "import numpy as np\n",
    "\n",
    "import matplotlib.pyplot as plt\n",
    "import seaborn as sns\n",
    "\n",
    "from env import get_db_url\n",
    "\n",
    "from sklearn.model_selection import train_test_split\n",
    "import sklearn.preprocessing"
   ]
  },
  {
   "cell_type": "code",
   "execution_count": null,
   "id": "d7da1579-fded-450f-af62-a9c9f3e63b68",
   "metadata": {},
   "outputs": [],
   "source": []
  },
  {
   "cell_type": "markdown",
   "id": "d1b4c446-6e68-44ce-aac8-0b95f8e724fa",
   "metadata": {},
   "source": [
    "# Acquire the data"
   ]
  },
  {
   "cell_type": "code",
   "execution_count": 61,
   "id": "cccd268b-2c69-45af-a705-763836804ae2",
   "metadata": {},
   "outputs": [],
   "source": [
    "def get_zillow_data():\n",
    "    '''\n",
    "    Function will try to return ad database from csv file if file is local and in same directory.\n",
    "    IF file doesn't exist it will create and store in same directory\n",
    "    Otherwise will pull from codeup database.\n",
    "    Must have credentials for codeup database.\n",
    "    '''\n",
    "    query = '''\n",
    "        SELECT bedroomcnt, bathroomcnt, calculatedfinishedsquarefeet, taxvaluedollarcnt, fips, transactiondate\n",
    "FROM properties_2017\n",
    "\n",
    "LEFT JOIN propertylandusetype USING(propertylandusetypeid)\n",
    "\n",
    "JOIN predictions_2017 using(parcelid)\n",
    "\n",
    "WHERE (propertylandusetypeid  = 261\n",
    "or\n",
    "propertylandusetypeid  =  279)\n",
    "and  transactiondate like %s;\n",
    "        '''\n",
    "    params = ('2017%',)\n",
    "    try:\n",
    "        csv_info = pd.read_csv('zillow.csv', index_col=0 )\n",
    "        return csv_info\n",
    "    except FileNotFoundError:\n",
    "        url = get_db_url('zillow')\n",
    "        info = pd.read_sql(query, url, params=params)\n",
    "        info.to_csv(\"zillow.csv\", index=True)\n",
    "        return info"
   ]
  },
  {
   "cell_type": "code",
   "execution_count": 62,
   "id": "b00c6306-47f6-4184-ba6c-70d01caecbe5",
   "metadata": {},
   "outputs": [],
   "source": [
    "df = get_zillow_data()\n"
   ]
  },
  {
   "cell_type": "markdown",
   "id": "5f14ab6e-35f0-4da9-ae2b-4e559dca01c6",
   "metadata": {},
   "source": [
    "### Take a look"
   ]
  },
  {
   "cell_type": "code",
   "execution_count": 79,
   "id": "114c25f8-0097-4f14-97e5-688481ea2de9",
   "metadata": {},
   "outputs": [
    {
     "data": {
      "text/html": [
       "<div>\n",
       "<style scoped>\n",
       "    .dataframe tbody tr th:only-of-type {\n",
       "        vertical-align: middle;\n",
       "    }\n",
       "\n",
       "    .dataframe tbody tr th {\n",
       "        vertical-align: top;\n",
       "    }\n",
       "\n",
       "    .dataframe thead th {\n",
       "        text-align: right;\n",
       "    }\n",
       "</style>\n",
       "<table border=\"1\" class=\"dataframe\">\n",
       "  <thead>\n",
       "    <tr style=\"text-align: right;\">\n",
       "      <th></th>\n",
       "      <th>bedroomcnt</th>\n",
       "      <th>bathroomcnt</th>\n",
       "      <th>calculatedfinishedsquarefeet</th>\n",
       "      <th>taxvaluedollarcnt</th>\n",
       "      <th>fips</th>\n",
       "      <th>transactiondate</th>\n",
       "    </tr>\n",
       "  </thead>\n",
       "  <tbody>\n",
       "    <tr>\n",
       "      <th>0</th>\n",
       "      <td>4.0</td>\n",
       "      <td>3.5</td>\n",
       "      <td>3100.0</td>\n",
       "      <td>1023282.0</td>\n",
       "      <td>6059.0</td>\n",
       "      <td>2017-01-01</td>\n",
       "    </tr>\n",
       "    <tr>\n",
       "      <th>1</th>\n",
       "      <td>2.0</td>\n",
       "      <td>1.0</td>\n",
       "      <td>1465.0</td>\n",
       "      <td>464000.0</td>\n",
       "      <td>6111.0</td>\n",
       "      <td>2017-01-01</td>\n",
       "    </tr>\n",
       "    <tr>\n",
       "      <th>2</th>\n",
       "      <td>3.0</td>\n",
       "      <td>2.0</td>\n",
       "      <td>1243.0</td>\n",
       "      <td>564778.0</td>\n",
       "      <td>6059.0</td>\n",
       "      <td>2017-01-01</td>\n",
       "    </tr>\n",
       "    <tr>\n",
       "      <th>3</th>\n",
       "      <td>4.0</td>\n",
       "      <td>3.0</td>\n",
       "      <td>2376.0</td>\n",
       "      <td>145143.0</td>\n",
       "      <td>6037.0</td>\n",
       "      <td>2017-01-01</td>\n",
       "    </tr>\n",
       "    <tr>\n",
       "      <th>4</th>\n",
       "      <td>4.0</td>\n",
       "      <td>3.0</td>\n",
       "      <td>2962.0</td>\n",
       "      <td>773303.0</td>\n",
       "      <td>6037.0</td>\n",
       "      <td>2017-01-01</td>\n",
       "    </tr>\n",
       "    <tr>\n",
       "      <th>...</th>\n",
       "      <td>...</td>\n",
       "      <td>...</td>\n",
       "      <td>...</td>\n",
       "      <td>...</td>\n",
       "      <td>...</td>\n",
       "      <td>...</td>\n",
       "    </tr>\n",
       "    <tr>\n",
       "      <th>52436</th>\n",
       "      <td>4.0</td>\n",
       "      <td>2.0</td>\n",
       "      <td>1633.0</td>\n",
       "      <td>346534.0</td>\n",
       "      <td>6037.0</td>\n",
       "      <td>2017-09-19</td>\n",
       "    </tr>\n",
       "    <tr>\n",
       "      <th>52437</th>\n",
       "      <td>2.0</td>\n",
       "      <td>2.0</td>\n",
       "      <td>1286.0</td>\n",
       "      <td>354621.0</td>\n",
       "      <td>6037.0</td>\n",
       "      <td>2017-09-20</td>\n",
       "    </tr>\n",
       "    <tr>\n",
       "      <th>52438</th>\n",
       "      <td>4.0</td>\n",
       "      <td>2.0</td>\n",
       "      <td>1612.0</td>\n",
       "      <td>67205.0</td>\n",
       "      <td>6111.0</td>\n",
       "      <td>2017-09-21</td>\n",
       "    </tr>\n",
       "    <tr>\n",
       "      <th>52439</th>\n",
       "      <td>3.0</td>\n",
       "      <td>1.0</td>\n",
       "      <td>1032.0</td>\n",
       "      <td>49546.0</td>\n",
       "      <td>6037.0</td>\n",
       "      <td>2017-09-21</td>\n",
       "    </tr>\n",
       "    <tr>\n",
       "      <th>52440</th>\n",
       "      <td>3.0</td>\n",
       "      <td>2.0</td>\n",
       "      <td>1762.0</td>\n",
       "      <td>522000.0</td>\n",
       "      <td>6037.0</td>\n",
       "      <td>2017-09-25</td>\n",
       "    </tr>\n",
       "  </tbody>\n",
       "</table>\n",
       "<p>52441 rows × 6 columns</p>\n",
       "</div>"
      ],
      "text/plain": [
       "       bedroomcnt  bathroomcnt  calculatedfinishedsquarefeet  \\\n",
       "0             4.0          3.5                        3100.0   \n",
       "1             2.0          1.0                        1465.0   \n",
       "2             3.0          2.0                        1243.0   \n",
       "3             4.0          3.0                        2376.0   \n",
       "4             4.0          3.0                        2962.0   \n",
       "...           ...          ...                           ...   \n",
       "52436         4.0          2.0                        1633.0   \n",
       "52437         2.0          2.0                        1286.0   \n",
       "52438         4.0          2.0                        1612.0   \n",
       "52439         3.0          1.0                        1032.0   \n",
       "52440         3.0          2.0                        1762.0   \n",
       "\n",
       "       taxvaluedollarcnt    fips transactiondate  \n",
       "0              1023282.0  6059.0      2017-01-01  \n",
       "1               464000.0  6111.0      2017-01-01  \n",
       "2               564778.0  6059.0      2017-01-01  \n",
       "3               145143.0  6037.0      2017-01-01  \n",
       "4               773303.0  6037.0      2017-01-01  \n",
       "...                  ...     ...             ...  \n",
       "52436           346534.0  6037.0      2017-09-19  \n",
       "52437           354621.0  6037.0      2017-09-20  \n",
       "52438            67205.0  6111.0      2017-09-21  \n",
       "52439            49546.0  6037.0      2017-09-21  \n",
       "52440           522000.0  6037.0      2017-09-25  \n",
       "\n",
       "[52441 rows x 6 columns]"
      ]
     },
     "execution_count": 79,
     "metadata": {},
     "output_type": "execute_result"
    }
   ],
   "source": [
    "df"
   ]
  },
  {
   "cell_type": "code",
   "execution_count": null,
   "id": "d9d908e2-70e0-40a9-85be-7d101a54471e",
   "metadata": {},
   "outputs": [],
   "source": []
  },
  {
   "cell_type": "markdown",
   "id": "a605d4a7-6990-499e-9d58-bc896693ddab",
   "metadata": {},
   "source": [
    "### Let's look for Nulls"
   ]
  },
  {
   "cell_type": "code",
   "execution_count": 72,
   "id": "24257491-6604-4853-879d-2c99d81dd91f",
   "metadata": {},
   "outputs": [
    {
     "data": {
      "text/plain": [
       "bedroomcnt                       0\n",
       "bathroomcnt                      0\n",
       "calculatedfinishedsquarefeet    82\n",
       "taxvaluedollarcnt                1\n",
       "fips                             0\n",
       "transactiondate                  0\n",
       "dtype: int64"
      ]
     },
     "execution_count": 72,
     "metadata": {},
     "output_type": "execute_result"
    }
   ],
   "source": [
    "df.isnull().sum()"
   ]
  },
  {
   "cell_type": "code",
   "execution_count": 73,
   "id": "54c337d8-fbad-4351-89ae-690db8551356",
   "metadata": {},
   "outputs": [
    {
     "data": {
      "text/plain": [
       "count    52359.000000\n",
       "mean      1922.890754\n",
       "std       1004.365838\n",
       "min        128.000000\n",
       "25%       1268.000000\n",
       "50%       1659.000000\n",
       "75%       2306.000000\n",
       "max      21929.000000\n",
       "Name: calculatedfinishedsquarefeet, dtype: float64"
      ]
     },
     "execution_count": 73,
     "metadata": {},
     "output_type": "execute_result"
    }
   ],
   "source": [
    "df.calculatedfinishedsquarefeet.describe()"
   ]
  },
  {
   "cell_type": "code",
   "execution_count": 71,
   "id": "cbaa051e-7d69-4ef6-877e-e85b9900e68b",
   "metadata": {},
   "outputs": [
    {
     "data": {
      "text/html": [
       "<div>\n",
       "<style scoped>\n",
       "    .dataframe tbody tr th:only-of-type {\n",
       "        vertical-align: middle;\n",
       "    }\n",
       "\n",
       "    .dataframe tbody tr th {\n",
       "        vertical-align: top;\n",
       "    }\n",
       "\n",
       "    .dataframe thead th {\n",
       "        text-align: right;\n",
       "    }\n",
       "</style>\n",
       "<table border=\"1\" class=\"dataframe\">\n",
       "  <thead>\n",
       "    <tr style=\"text-align: right;\">\n",
       "      <th></th>\n",
       "      <th>bedroomcnt</th>\n",
       "      <th>bathroomcnt</th>\n",
       "      <th>calculatedfinishedsquarefeet</th>\n",
       "      <th>taxvaluedollarcnt</th>\n",
       "      <th>fips</th>\n",
       "      <th>transactiondate</th>\n",
       "    </tr>\n",
       "  </thead>\n",
       "  <tbody>\n",
       "    <tr>\n",
       "      <th>124</th>\n",
       "      <td>0.0</td>\n",
       "      <td>0.0</td>\n",
       "      <td>NaN</td>\n",
       "      <td>830145.0</td>\n",
       "      <td>6059.0</td>\n",
       "      <td>2017-01-03</td>\n",
       "    </tr>\n",
       "    <tr>\n",
       "      <th>3322</th>\n",
       "      <td>0.0</td>\n",
       "      <td>0.0</td>\n",
       "      <td>NaN</td>\n",
       "      <td>643406.0</td>\n",
       "      <td>6059.0</td>\n",
       "      <td>2017-01-24</td>\n",
       "    </tr>\n",
       "    <tr>\n",
       "      <th>4465</th>\n",
       "      <td>2.0</td>\n",
       "      <td>1.0</td>\n",
       "      <td>NaN</td>\n",
       "      <td>488078.0</td>\n",
       "      <td>6059.0</td>\n",
       "      <td>2017-01-31</td>\n",
       "    </tr>\n",
       "    <tr>\n",
       "      <th>4605</th>\n",
       "      <td>0.0</td>\n",
       "      <td>0.0</td>\n",
       "      <td>NaN</td>\n",
       "      <td>2909706.0</td>\n",
       "      <td>6059.0</td>\n",
       "      <td>2017-01-31</td>\n",
       "    </tr>\n",
       "    <tr>\n",
       "      <th>5065</th>\n",
       "      <td>0.0</td>\n",
       "      <td>0.0</td>\n",
       "      <td>NaN</td>\n",
       "      <td>5080924.0</td>\n",
       "      <td>6059.0</td>\n",
       "      <td>2017-02-02</td>\n",
       "    </tr>\n",
       "    <tr>\n",
       "      <th>...</th>\n",
       "      <td>...</td>\n",
       "      <td>...</td>\n",
       "      <td>...</td>\n",
       "      <td>...</td>\n",
       "      <td>...</td>\n",
       "      <td>...</td>\n",
       "    </tr>\n",
       "    <tr>\n",
       "      <th>46629</th>\n",
       "      <td>0.0</td>\n",
       "      <td>0.0</td>\n",
       "      <td>NaN</td>\n",
       "      <td>3489309.0</td>\n",
       "      <td>6037.0</td>\n",
       "      <td>2017-08-22</td>\n",
       "    </tr>\n",
       "    <tr>\n",
       "      <th>48412</th>\n",
       "      <td>0.0</td>\n",
       "      <td>0.0</td>\n",
       "      <td>NaN</td>\n",
       "      <td>3248800.0</td>\n",
       "      <td>6059.0</td>\n",
       "      <td>2017-08-30</td>\n",
       "    </tr>\n",
       "    <tr>\n",
       "      <th>48597</th>\n",
       "      <td>0.0</td>\n",
       "      <td>0.0</td>\n",
       "      <td>NaN</td>\n",
       "      <td>327761.0</td>\n",
       "      <td>6059.0</td>\n",
       "      <td>2017-08-30</td>\n",
       "    </tr>\n",
       "    <tr>\n",
       "      <th>49690</th>\n",
       "      <td>0.0</td>\n",
       "      <td>0.0</td>\n",
       "      <td>NaN</td>\n",
       "      <td>321981.0</td>\n",
       "      <td>6059.0</td>\n",
       "      <td>2017-09-02</td>\n",
       "    </tr>\n",
       "    <tr>\n",
       "      <th>50078</th>\n",
       "      <td>0.0</td>\n",
       "      <td>0.0</td>\n",
       "      <td>NaN</td>\n",
       "      <td>468439.0</td>\n",
       "      <td>6111.0</td>\n",
       "      <td>2017-09-06</td>\n",
       "    </tr>\n",
       "  </tbody>\n",
       "</table>\n",
       "<p>83 rows × 6 columns</p>\n",
       "</div>"
      ],
      "text/plain": [
       "       bedroomcnt  bathroomcnt  calculatedfinishedsquarefeet  \\\n",
       "124           0.0          0.0                           NaN   \n",
       "3322          0.0          0.0                           NaN   \n",
       "4465          2.0          1.0                           NaN   \n",
       "4605          0.0          0.0                           NaN   \n",
       "5065          0.0          0.0                           NaN   \n",
       "...           ...          ...                           ...   \n",
       "46629         0.0          0.0                           NaN   \n",
       "48412         0.0          0.0                           NaN   \n",
       "48597         0.0          0.0                           NaN   \n",
       "49690         0.0          0.0                           NaN   \n",
       "50078         0.0          0.0                           NaN   \n",
       "\n",
       "       taxvaluedollarcnt    fips transactiondate  \n",
       "124             830145.0  6059.0      2017-01-03  \n",
       "3322            643406.0  6059.0      2017-01-24  \n",
       "4465            488078.0  6059.0      2017-01-31  \n",
       "4605           2909706.0  6059.0      2017-01-31  \n",
       "5065           5080924.0  6059.0      2017-02-02  \n",
       "...                  ...     ...             ...  \n",
       "46629          3489309.0  6037.0      2017-08-22  \n",
       "48412          3248800.0  6059.0      2017-08-30  \n",
       "48597           327761.0  6059.0      2017-08-30  \n",
       "49690           321981.0  6059.0      2017-09-02  \n",
       "50078           468439.0  6111.0      2017-09-06  \n",
       "\n",
       "[83 rows x 6 columns]"
      ]
     },
     "execution_count": 71,
     "metadata": {},
     "output_type": "execute_result"
    }
   ],
   "source": [
    "df[df.isna().any(axis=1)]"
   ]
  },
  {
   "cell_type": "markdown",
   "id": "acd1d211-a7ed-4fff-b140-889a459b2f5f",
   "metadata": {},
   "source": [
    "### Nulls\n",
    "   - 83 rows with nulls \n",
    "   - all but one in calculatedfinishedsquarefeet(area)\n",
    "   - Gonna look at outliers before deciding what to do with the nulls"
   ]
  },
  {
   "cell_type": "markdown",
   "id": "3e239a6d-949c-46ff-8e93-91eaf942e991",
   "metadata": {},
   "source": [
    " ### Outliers \n",
    " "
   ]
  },
  {
   "cell_type": "code",
   "execution_count": 80,
   "id": "4772e9f1-0d15-4cb3-898d-274f7f5c3b6f",
   "metadata": {},
   "outputs": [],
   "source": [
    "cols = [col for col in df.columns if col not in ['fips', 'year_built', 'transactiondate']]"
   ]
  },
  {
   "cell_type": "code",
   "execution_count": 82,
   "id": "2e31245a-e26c-4eec-91ec-5b92ac82eeb8",
   "metadata": {},
   "outputs": [
    {
     "data": {
      "image/png": "[encoded data removed]",
      "text/plain": [
       "<Figure size 2000x1000 with 4 Axes>"
      ]
     },
     "metadata": {},
     "output_type": "display_data"
    }
   ],
   "source": [
    "plt.figure(figsize=(20,10))\n",
    "for i, col in enumerate(cols):\n",
    "    # our plot numbers start at 1\n",
    "    plot_number = i+1\n",
    "    plt.subplot(1, len(cols), plot_number)\n",
    "    plt.title(f'Distribution of {col}')\n",
    "    df[col].hist(bins=10)\n",
    "    plt.grid(False)\n",
    "    plt.ticklabel_format(useOffset=False)\n",
    "plt.show()"
   ]
  },
  {
   "cell_type": "code",
   "execution_count": 81,
   "id": "86dc5510-40ac-428b-8d61-b549f05294ff",
   "metadata": {},
   "outputs": [
    {
     "data": {
      "image/png": "[encoded data removed]",
      "text/plain": [
       "<Figure size 2000x1000 with 4 Axes>"
      ]
     },
     "metadata": {},
     "output_type": "display_data"
    }
   ],
   "source": [
    "plt.figure(figsize=(20,10))\n",
    "for i, col in enumerate(cols):\n",
    "    # our plot numbers start at 1\n",
    "    plot_number = i+1\n",
    "    plt.subplot(1, len(cols), plot_number)\n",
    "    plt.title(f'Distribution of {col}')\n",
    "    plt.grid(False)\n",
    "    sns.boxplot(data=df[col])\n",
    "plt.show()"
   ]
  },
  {
   "cell_type": "markdown",
   "id": "995ea9f2-2b58-4c48-816c-09d28d0d8145",
   "metadata": {},
   "source": [
    "### Decision\n",
    "   - bedroom and bathroom outliers are minimal \n",
    "   - area and taxvalue have more\n",
    "### Im going to remove the majority of outliers for the mvp but look into it more on my next iterration "
   ]
  },
  {
   "cell_type": "markdown",
   "id": "b4c8fe50-a9fa-4c96-9056-e37c432e133e",
   "metadata": {},
   "source": [
    "### Removing the outliers outside the fenses "
   ]
  },
  {
   "cell_type": "code",
   "execution_count": 83,
   "id": "29e3b9f3-0428-4524-9a9d-7f174b10cbf0",
   "metadata": {},
   "outputs": [],
   "source": [
    "def remove_outliers(df, col_list, k=1.5):\n",
    "    '''\n",
    "    remove outliers from a dataframe based on a list of columns\n",
    "    using the tukey method.\n",
    "    returns a single dataframe with outliers removed\n",
    "    '''\n",
    "    col_qs = {}\n",
    "    for col in col_list:\n",
    "        col_qs[col] = q1, q3 = df[col].quantile([0.25, 0.75])\n",
    "    for col in col_list:\n",
    "        iqr = col_qs[col][0.75] - col_qs[col][0.25]\n",
    "        lower_fence = col_qs[col][0.25] - (k*iqr)\n",
    "        upper_fence = col_qs[col][0.75] + (k*iqr)\n",
    "        print(type(lower_fence))\n",
    "        print(lower_fence)\n",
    "        df = df[(df[col] > lower_fence) & (df[col] < upper_fence)]\n",
    "    return df"
   ]
  },
  {
   "cell_type": "code",
   "execution_count": 87,
   "id": "31cbb427-9ae6-4dca-9ae0-01b460bf97a1",
   "metadata": {},
   "outputs": [
    {
     "name": "stdout",
     "output_type": "stream",
     "text": [
      "<class 'numpy.float64'>\n",
      "1.5\n",
      "<class 'numpy.float64'>\n",
      "0.5\n",
      "<class 'numpy.float64'>\n",
      "-289.0\n",
      "<class 'numpy.float64'>\n",
      "-444583.125\n"
     ]
    }
   ],
   "source": [
    "df = remove_outliers(df, cols)"
   ]
  },
  {
   "cell_type": "code",
   "execution_count": 88,
   "id": "46fa66bd-0fc9-4538-81a7-171162f6743e",
   "metadata": {},
   "outputs": [
    {
     "data": {
      "image/png": "[encoded data removed]",
      "text/plain": [
       "<Figure size 2000x1000 with 4 Axes>"
      ]
     },
     "metadata": {},
     "output_type": "display_data"
    }
   ],
   "source": [
    "plt.figure(figsize=(20,10))\n",
    "for i, col in enumerate(cols):\n",
    "    # our plot numbers start at 1\n",
    "    plot_number = i+1\n",
    "    plt.subplot(1, len(cols), plot_number)\n",
    "    plt.title(f'Distribution of {col}')\n",
    "    df[col].hist(bins=10)\n",
    "    plt.grid(False)\n",
    "    plt.ticklabel_format(useOffset=False)\n",
    "plt.show()"
   ]
  },
  {
   "cell_type": "code",
   "execution_count": 89,
   "id": "f4ecea40-16ed-4e79-a2bc-fbe7ff31a7c5",
   "metadata": {},
   "outputs": [
    {
     "data": {
      "image/png": "[encoded data removed]",
      "text/plain": [
       "<Figure size 2000x1000 with 4 Axes>"
      ]
     },
     "metadata": {},
     "output_type": "display_data"
    }
   ],
   "source": [
    "plt.figure(figsize=(20,10))\n",
    "for i, col in enumerate(cols):\n",
    "    # our plot numbers start at 1\n",
    "    plot_number = i+1\n",
    "    plt.subplot(1, len(cols), plot_number)\n",
    "    plt.title(f'Distribution of {col}')\n",
    "    plt.grid(False)\n",
    "    sns.boxplot(data=df[col])\n",
    "plt.show()"
   ]
  },
  {
   "cell_type": "code",
   "execution_count": 90,
   "id": "0c089baa-0b6f-484f-b8ea-e64887f009fe",
   "metadata": {},
   "outputs": [
    {
     "data": {
      "text/html": [
       "<div>\n",
       "<style scoped>\n",
       "    .dataframe tbody tr th:only-of-type {\n",
       "        vertical-align: middle;\n",
       "    }\n",
       "\n",
       "    .dataframe tbody tr th {\n",
       "        vertical-align: top;\n",
       "    }\n",
       "\n",
       "    .dataframe thead th {\n",
       "        text-align: right;\n",
       "    }\n",
       "</style>\n",
       "<table border=\"1\" class=\"dataframe\">\n",
       "  <thead>\n",
       "    <tr style=\"text-align: right;\">\n",
       "      <th></th>\n",
       "      <th>bedroomcnt</th>\n",
       "      <th>bathroomcnt</th>\n",
       "      <th>calculatedfinishedsquarefeet</th>\n",
       "      <th>taxvaluedollarcnt</th>\n",
       "      <th>fips</th>\n",
       "      <th>transactiondate</th>\n",
       "    </tr>\n",
       "  </thead>\n",
       "  <tbody>\n",
       "    <tr>\n",
       "      <th>0</th>\n",
       "      <td>4.0</td>\n",
       "      <td>3.5</td>\n",
       "      <td>3100.0</td>\n",
       "      <td>1023282.0</td>\n",
       "      <td>6059.0</td>\n",
       "      <td>2017-01-01</td>\n",
       "    </tr>\n",
       "    <tr>\n",
       "      <th>1</th>\n",
       "      <td>2.0</td>\n",
       "      <td>1.0</td>\n",
       "      <td>1465.0</td>\n",
       "      <td>464000.0</td>\n",
       "      <td>6111.0</td>\n",
       "      <td>2017-01-01</td>\n",
       "    </tr>\n",
       "    <tr>\n",
       "      <th>2</th>\n",
       "      <td>3.0</td>\n",
       "      <td>2.0</td>\n",
       "      <td>1243.0</td>\n",
       "      <td>564778.0</td>\n",
       "      <td>6059.0</td>\n",
       "      <td>2017-01-01</td>\n",
       "    </tr>\n",
       "    <tr>\n",
       "      <th>3</th>\n",
       "      <td>4.0</td>\n",
       "      <td>3.0</td>\n",
       "      <td>2376.0</td>\n",
       "      <td>145143.0</td>\n",
       "      <td>6037.0</td>\n",
       "      <td>2017-01-01</td>\n",
       "    </tr>\n",
       "    <tr>\n",
       "      <th>4</th>\n",
       "      <td>4.0</td>\n",
       "      <td>3.0</td>\n",
       "      <td>2962.0</td>\n",
       "      <td>773303.0</td>\n",
       "      <td>6037.0</td>\n",
       "      <td>2017-01-01</td>\n",
       "    </tr>\n",
       "    <tr>\n",
       "      <th>...</th>\n",
       "      <td>...</td>\n",
       "      <td>...</td>\n",
       "      <td>...</td>\n",
       "      <td>...</td>\n",
       "      <td>...</td>\n",
       "      <td>...</td>\n",
       "    </tr>\n",
       "    <tr>\n",
       "      <th>52436</th>\n",
       "      <td>4.0</td>\n",
       "      <td>2.0</td>\n",
       "      <td>1633.0</td>\n",
       "      <td>346534.0</td>\n",
       "      <td>6037.0</td>\n",
       "      <td>2017-09-19</td>\n",
       "    </tr>\n",
       "    <tr>\n",
       "      <th>52437</th>\n",
       "      <td>2.0</td>\n",
       "      <td>2.0</td>\n",
       "      <td>1286.0</td>\n",
       "      <td>354621.0</td>\n",
       "      <td>6037.0</td>\n",
       "      <td>2017-09-20</td>\n",
       "    </tr>\n",
       "    <tr>\n",
       "      <th>52438</th>\n",
       "      <td>4.0</td>\n",
       "      <td>2.0</td>\n",
       "      <td>1612.0</td>\n",
       "      <td>67205.0</td>\n",
       "      <td>6111.0</td>\n",
       "      <td>2017-09-21</td>\n",
       "    </tr>\n",
       "    <tr>\n",
       "      <th>52439</th>\n",
       "      <td>3.0</td>\n",
       "      <td>1.0</td>\n",
       "      <td>1032.0</td>\n",
       "      <td>49546.0</td>\n",
       "      <td>6037.0</td>\n",
       "      <td>2017-09-21</td>\n",
       "    </tr>\n",
       "    <tr>\n",
       "      <th>52440</th>\n",
       "      <td>3.0</td>\n",
       "      <td>2.0</td>\n",
       "      <td>1762.0</td>\n",
       "      <td>522000.0</td>\n",
       "      <td>6037.0</td>\n",
       "      <td>2017-09-25</td>\n",
       "    </tr>\n",
       "  </tbody>\n",
       "</table>\n",
       "<p>46560 rows × 6 columns</p>\n",
       "</div>"
      ],
      "text/plain": [
       "       bedroomcnt  bathroomcnt  calculatedfinishedsquarefeet  \\\n",
       "0             4.0          3.5                        3100.0   \n",
       "1             2.0          1.0                        1465.0   \n",
       "2             3.0          2.0                        1243.0   \n",
       "3             4.0          3.0                        2376.0   \n",
       "4             4.0          3.0                        2962.0   \n",
       "...           ...          ...                           ...   \n",
       "52436         4.0          2.0                        1633.0   \n",
       "52437         2.0          2.0                        1286.0   \n",
       "52438         4.0          2.0                        1612.0   \n",
       "52439         3.0          1.0                        1032.0   \n",
       "52440         3.0          2.0                        1762.0   \n",
       "\n",
       "       taxvaluedollarcnt    fips transactiondate  \n",
       "0              1023282.0  6059.0      2017-01-01  \n",
       "1               464000.0  6111.0      2017-01-01  \n",
       "2               564778.0  6059.0      2017-01-01  \n",
       "3               145143.0  6037.0      2017-01-01  \n",
       "4               773303.0  6037.0      2017-01-01  \n",
       "...                  ...     ...             ...  \n",
       "52436           346534.0  6037.0      2017-09-19  \n",
       "52437           354621.0  6037.0      2017-09-20  \n",
       "52438            67205.0  6111.0      2017-09-21  \n",
       "52439            49546.0  6037.0      2017-09-21  \n",
       "52440           522000.0  6037.0      2017-09-25  \n",
       "\n",
       "[46560 rows x 6 columns]"
      ]
     },
     "execution_count": 90,
     "metadata": {},
     "output_type": "execute_result"
    }
   ],
   "source": [
    "df"
   ]
  },
  {
   "cell_type": "markdown",
   "id": "a84a268a-8ecf-4b98-a12f-4528a0e91a06",
   "metadata": {},
   "source": [
    "## Lets check the nulls again"
   ]
  },
  {
   "cell_type": "code",
   "execution_count": 91,
   "id": "de2513cc-d6f1-436c-86e9-95875bea9675",
   "metadata": {},
   "outputs": [
    {
     "data": {
      "text/plain": [
       "bedroomcnt                      0\n",
       "bathroomcnt                     0\n",
       "calculatedfinishedsquarefeet    0\n",
       "taxvaluedollarcnt               0\n",
       "fips                            0\n",
       "transactiondate                 0\n",
       "dtype: int64"
      ]
     },
     "execution_count": 91,
     "metadata": {},
     "output_type": "execute_result"
    }
   ],
   "source": [
    "df.isnull().sum()"
   ]
  },
  {
   "cell_type": "markdown",
   "id": "5aad9027-237a-4a18-ba77-9eb0a9fe911f",
   "metadata": {},
   "source": [
    "#### yay!"
   ]
  },
  {
   "cell_type": "code",
   "execution_count": 100,
   "id": "6d856433-615b-4f61-90df-e0eb1ef814e8",
   "metadata": {},
   "outputs": [],
   "source": [
    "def prep_zillow():\n",
    "    '''\n",
    "    Funtion will return a zillow dataframe with the outliers and nulls dropped and the data cleaned\n",
    "    '''\n",
    "    df = get_zillow_data()\n",
    "    df = df.rename(columns = {'bedroomcnt':'bedrooms', \n",
    "                                   'bathroomcnt':'bathrooms', \n",
    "                                   'calculatedfinishedsquarefeet':'area',\n",
    "                                   'taxvaluedollarcnt':'tax_value',\n",
    "                                    'transactiondate': 'sale_date'})\n",
    "    \n",
    "    cols = [col for col in df.columns if col not in ['fips', 'year_built', 'sale_date']]\n",
    "    \n",
    "    df = remove_outliers(df, cols)\n",
    "    return df"
   ]
  },
  {
   "cell_type": "code",
   "execution_count": null,
   "id": "48662686-5390-4dd8-8b32-15d4de0f2b50",
   "metadata": {},
   "outputs": [],
   "source": []
  },
  {
   "cell_type": "markdown",
   "id": "4bd99c80-628f-45f2-bc49-313a0c51b778",
   "metadata": {},
   "source": [
    "## Gonna finish the wrangle now\n",
    "## train, validate, test"
   ]
  },
  {
   "cell_type": "code",
   "execution_count": 104,
   "id": "f7aa8175-027a-4093-883f-990181554584",
   "metadata": {},
   "outputs": [
    {
     "name": "stdout",
     "output_type": "stream",
     "text": [
      "<class 'numpy.float64'>\n",
      "1.5\n",
      "<class 'numpy.float64'>\n",
      "0.5\n",
      "<class 'numpy.float64'>\n",
      "-289.0\n",
      "<class 'numpy.float64'>\n",
      "-444583.125\n"
     ]
    }
   ],
   "source": [
    "df = prep_zillow()"
   ]
  },
  {
   "cell_type": "code",
   "execution_count": 128,
   "id": "5426657f-8006-488f-91f6-1f605e0abfa7",
   "metadata": {},
   "outputs": [
    {
     "data": {
      "text/plain": [
       "dtype('O')"
      ]
     },
     "execution_count": 128,
     "metadata": {},
     "output_type": "execute_result"
    }
   ],
   "source": [
    "df.sale_date.dtype"
   ]
  },
  {
   "cell_type": "code",
   "execution_count": null,
   "id": "889fb61a-c9ea-46d7-bafe-d65ace89494b",
   "metadata": {},
   "outputs": [],
   "source": []
  },
  {
   "cell_type": "code",
   "execution_count": 109,
   "id": "1b5e9f5b-7b7a-4182-b7e9-71654ec32b10",
   "metadata": {},
   "outputs": [],
   "source": [
    "def wrangle_zillow():\n",
    "    df = prep_zillow()\n",
    "    train_val, test = train_test_split(df,\n",
    "                                       train_size=0.8,\n",
    "                                       random_state=706)\n",
    "    train, validate = train_test_split(train_val,\n",
    "                                       train_size=0.7,\n",
    "                                       random_state=706)\n",
    "    return train, validate, test"
   ]
  },
  {
   "cell_type": "code",
   "execution_count": 110,
   "id": "1ef9a55f-daa3-4f6b-84fe-db918787f956",
   "metadata": {},
   "outputs": [
    {
     "name": "stdout",
     "output_type": "stream",
     "text": [
      "<class 'numpy.float64'>\n",
      "1.5\n",
      "<class 'numpy.float64'>\n",
      "0.5\n",
      "<class 'numpy.float64'>\n",
      "-289.0\n",
      "<class 'numpy.float64'>\n",
      "-444583.125\n"
     ]
    }
   ],
   "source": [
    "train, val, test = wrangle_zillow()"
   ]
  },
  {
   "cell_type": "code",
   "execution_count": 113,
   "id": "2eb7a150-42c2-4abb-a954-e2832fe1218a",
   "metadata": {},
   "outputs": [
    {
     "data": {
      "text/plain": [
       "((26073, 6), (11175, 6), (9312, 6))"
      ]
     },
     "execution_count": 113,
     "metadata": {},
     "output_type": "execute_result"
    }
   ],
   "source": [
    "train.shape, val.shape, test.shape"
   ]
  },
  {
   "cell_type": "code",
   "execution_count": 129,
   "id": "bedf73d1-80f4-42bd-b6bb-54adf81c6a80",
   "metadata": {},
   "outputs": [
    {
     "data": {
      "text/plain": [
       "0.5599871134020619"
      ]
     },
     "execution_count": 129,
     "metadata": {},
     "output_type": "execute_result"
    }
   ],
   "source": [
    "26073/46560 "
   ]
  },
  {
   "cell_type": "code",
   "execution_count": 115,
   "id": "d154efa3-a7c7-4459-b0c5-18012c9fb70a",
   "metadata": {},
   "outputs": [
    {
     "data": {
      "text/html": [
       "<div>\n",
       "<style scoped>\n",
       "    .dataframe tbody tr th:only-of-type {\n",
       "        vertical-align: middle;\n",
       "    }\n",
       "\n",
       "    .dataframe tbody tr th {\n",
       "        vertical-align: top;\n",
       "    }\n",
       "\n",
       "    .dataframe thead th {\n",
       "        text-align: right;\n",
       "    }\n",
       "</style>\n",
       "<table border=\"1\" class=\"dataframe\">\n",
       "  <thead>\n",
       "    <tr style=\"text-align: right;\">\n",
       "      <th></th>\n",
       "      <th>bedrooms</th>\n",
       "      <th>bathrooms</th>\n",
       "      <th>area</th>\n",
       "      <th>tax_value</th>\n",
       "      <th>fips</th>\n",
       "      <th>sale_date</th>\n",
       "    </tr>\n",
       "  </thead>\n",
       "  <tbody>\n",
       "    <tr>\n",
       "      <th>0</th>\n",
       "      <td>4.0</td>\n",
       "      <td>3.5</td>\n",
       "      <td>3100.0</td>\n",
       "      <td>1023282.0</td>\n",
       "      <td>6059.0</td>\n",
       "      <td>2017-01-01</td>\n",
       "    </tr>\n",
       "    <tr>\n",
       "      <th>1</th>\n",
       "      <td>2.0</td>\n",
       "      <td>1.0</td>\n",
       "      <td>1465.0</td>\n",
       "      <td>464000.0</td>\n",
       "      <td>6111.0</td>\n",
       "      <td>2017-01-01</td>\n",
       "    </tr>\n",
       "    <tr>\n",
       "      <th>2</th>\n",
       "      <td>3.0</td>\n",
       "      <td>2.0</td>\n",
       "      <td>1243.0</td>\n",
       "      <td>564778.0</td>\n",
       "      <td>6059.0</td>\n",
       "      <td>2017-01-01</td>\n",
       "    </tr>\n",
       "    <tr>\n",
       "      <th>3</th>\n",
       "      <td>4.0</td>\n",
       "      <td>3.0</td>\n",
       "      <td>2376.0</td>\n",
       "      <td>145143.0</td>\n",
       "      <td>6037.0</td>\n",
       "      <td>2017-01-01</td>\n",
       "    </tr>\n",
       "    <tr>\n",
       "      <th>4</th>\n",
       "      <td>4.0</td>\n",
       "      <td>3.0</td>\n",
       "      <td>2962.0</td>\n",
       "      <td>773303.0</td>\n",
       "      <td>6037.0</td>\n",
       "      <td>2017-01-01</td>\n",
       "    </tr>\n",
       "    <tr>\n",
       "      <th>...</th>\n",
       "      <td>...</td>\n",
       "      <td>...</td>\n",
       "      <td>...</td>\n",
       "      <td>...</td>\n",
       "      <td>...</td>\n",
       "      <td>...</td>\n",
       "    </tr>\n",
       "    <tr>\n",
       "      <th>52436</th>\n",
       "      <td>4.0</td>\n",
       "      <td>2.0</td>\n",
       "      <td>1633.0</td>\n",
       "      <td>346534.0</td>\n",
       "      <td>6037.0</td>\n",
       "      <td>2017-09-19</td>\n",
       "    </tr>\n",
       "    <tr>\n",
       "      <th>52437</th>\n",
       "      <td>2.0</td>\n",
       "      <td>2.0</td>\n",
       "      <td>1286.0</td>\n",
       "      <td>354621.0</td>\n",
       "      <td>6037.0</td>\n",
       "      <td>2017-09-20</td>\n",
       "    </tr>\n",
       "    <tr>\n",
       "      <th>52438</th>\n",
       "      <td>4.0</td>\n",
       "      <td>2.0</td>\n",
       "      <td>1612.0</td>\n",
       "      <td>67205.0</td>\n",
       "      <td>6111.0</td>\n",
       "      <td>2017-09-21</td>\n",
       "    </tr>\n",
       "    <tr>\n",
       "      <th>52439</th>\n",
       "      <td>3.0</td>\n",
       "      <td>1.0</td>\n",
       "      <td>1032.0</td>\n",
       "      <td>49546.0</td>\n",
       "      <td>6037.0</td>\n",
       "      <td>2017-09-21</td>\n",
       "    </tr>\n",
       "    <tr>\n",
       "      <th>52440</th>\n",
       "      <td>3.0</td>\n",
       "      <td>2.0</td>\n",
       "      <td>1762.0</td>\n",
       "      <td>522000.0</td>\n",
       "      <td>6037.0</td>\n",
       "      <td>2017-09-25</td>\n",
       "    </tr>\n",
       "  </tbody>\n",
       "</table>\n",
       "<p>46560 rows × 6 columns</p>\n",
       "</div>"
      ],
      "text/plain": [
       "       bedrooms  bathrooms    area  tax_value    fips   sale_date\n",
       "0           4.0        3.5  3100.0  1023282.0  6059.0  2017-01-01\n",
       "1           2.0        1.0  1465.0   464000.0  6111.0  2017-01-01\n",
       "2           3.0        2.0  1243.0   564778.0  6059.0  2017-01-01\n",
       "3           4.0        3.0  2376.0   145143.0  6037.0  2017-01-01\n",
       "4           4.0        3.0  2962.0   773303.0  6037.0  2017-01-01\n",
       "...         ...        ...     ...        ...     ...         ...\n",
       "52436       4.0        2.0  1633.0   346534.0  6037.0  2017-09-19\n",
       "52437       2.0        2.0  1286.0   354621.0  6037.0  2017-09-20\n",
       "52438       4.0        2.0  1612.0    67205.0  6111.0  2017-09-21\n",
       "52439       3.0        1.0  1032.0    49546.0  6037.0  2017-09-21\n",
       "52440       3.0        2.0  1762.0   522000.0  6037.0  2017-09-25\n",
       "\n",
       "[46560 rows x 6 columns]"
      ]
     },
     "execution_count": 115,
     "metadata": {},
     "output_type": "execute_result"
    }
   ],
   "source": [
    "df"
   ]
  },
  {
   "cell_type": "markdown",
   "id": "5d2f8634-4289-4ae1-b548-e43a6d8aa304",
   "metadata": {},
   "source": [
    "## scaling"
   ]
  },
  {
   "cell_type": "code",
   "execution_count": 121,
   "id": "b3a48c8f-e5e2-4c60-a11f-0f472fa5fb93",
   "metadata": {},
   "outputs": [],
   "source": [
    "def scale_data(train, val, test):\n",
    "    x_cols = [col for col in train.columns if col not in ['tax_value', 'fips', 'sale_date', 'bedrooms', 'bathrooms']]\n",
    "    split = [train, val, test]\n",
    "    scale_list= []\n",
    "    scaler = sklearn.preprocessing.MinMaxScaler()\n",
    "    scaler.fit(train[x_cols])\n",
    "    for cut in split:\n",
    "        cut_copy = cut.copy()\n",
    "        cut_copy[x_cols] = scaler.transform(cut_copy[x_cols])\n",
    "        scale_list.append(cut_copy)\n",
    "\n",
    "    \n",
    "    return scale_list[0], scale_list[1], scale_list[2] "
   ]
  },
  {
   "cell_type": "code",
   "execution_count": 122,
   "id": "e49b8484-d620-453c-ba06-4d9f90442ec2",
   "metadata": {},
   "outputs": [],
   "source": [
    "scale_train, scale_val, scale_test = scale_data(train, val, test)"
   ]
  },
  {
   "cell_type": "code",
   "execution_count": 123,
   "id": "5d6d21ed-7490-496c-a35b-7cc011dc121a",
   "metadata": {},
   "outputs": [
    {
     "data": {
      "text/html": [
       "<div>\n",
       "<style scoped>\n",
       "    .dataframe tbody tr th:only-of-type {\n",
       "        vertical-align: middle;\n",
       "    }\n",
       "\n",
       "    .dataframe tbody tr th {\n",
       "        vertical-align: top;\n",
       "    }\n",
       "\n",
       "    .dataframe thead th {\n",
       "        text-align: right;\n",
       "    }\n",
       "</style>\n",
       "<table border=\"1\" class=\"dataframe\">\n",
       "  <thead>\n",
       "    <tr style=\"text-align: right;\">\n",
       "      <th></th>\n",
       "      <th>bedrooms</th>\n",
       "      <th>bathrooms</th>\n",
       "      <th>area</th>\n",
       "      <th>tax_value</th>\n",
       "      <th>fips</th>\n",
       "      <th>sale_date</th>\n",
       "    </tr>\n",
       "  </thead>\n",
       "  <tbody>\n",
       "    <tr>\n",
       "      <th>31478</th>\n",
       "      <td>4.0</td>\n",
       "      <td>2.0</td>\n",
       "      <td>0.311155</td>\n",
       "      <td>147333.0</td>\n",
       "      <td>6059.0</td>\n",
       "      <td>2017-06-15</td>\n",
       "    </tr>\n",
       "    <tr>\n",
       "      <th>30505</th>\n",
       "      <td>3.0</td>\n",
       "      <td>2.0</td>\n",
       "      <td>0.236127</td>\n",
       "      <td>475000.0</td>\n",
       "      <td>6037.0</td>\n",
       "      <td>2017-06-09</td>\n",
       "    </tr>\n",
       "    <tr>\n",
       "      <th>44417</th>\n",
       "      <td>2.0</td>\n",
       "      <td>1.0</td>\n",
       "      <td>0.111552</td>\n",
       "      <td>37645.0</td>\n",
       "      <td>6037.0</td>\n",
       "      <td>2017-08-11</td>\n",
       "    </tr>\n",
       "    <tr>\n",
       "      <th>36508</th>\n",
       "      <td>4.0</td>\n",
       "      <td>2.0</td>\n",
       "      <td>0.360419</td>\n",
       "      <td>75122.0</td>\n",
       "      <td>6037.0</td>\n",
       "      <td>2017-07-04</td>\n",
       "    </tr>\n",
       "    <tr>\n",
       "      <th>17712</th>\n",
       "      <td>3.0</td>\n",
       "      <td>2.0</td>\n",
       "      <td>0.257644</td>\n",
       "      <td>658896.0</td>\n",
       "      <td>6037.0</td>\n",
       "      <td>2017-04-14</td>\n",
       "    </tr>\n",
       "    <tr>\n",
       "      <th>...</th>\n",
       "      <td>...</td>\n",
       "      <td>...</td>\n",
       "      <td>...</td>\n",
       "      <td>...</td>\n",
       "      <td>...</td>\n",
       "      <td>...</td>\n",
       "    </tr>\n",
       "    <tr>\n",
       "      <th>49333</th>\n",
       "      <td>3.0</td>\n",
       "      <td>1.0</td>\n",
       "      <td>0.201586</td>\n",
       "      <td>300000.0</td>\n",
       "      <td>6037.0</td>\n",
       "      <td>2017-09-01</td>\n",
       "    </tr>\n",
       "    <tr>\n",
       "      <th>25047</th>\n",
       "      <td>3.0</td>\n",
       "      <td>2.0</td>\n",
       "      <td>0.237542</td>\n",
       "      <td>380000.0</td>\n",
       "      <td>6111.0</td>\n",
       "      <td>2017-05-17</td>\n",
       "    </tr>\n",
       "    <tr>\n",
       "      <th>23483</th>\n",
       "      <td>2.0</td>\n",
       "      <td>2.0</td>\n",
       "      <td>0.369479</td>\n",
       "      <td>331462.0</td>\n",
       "      <td>6059.0</td>\n",
       "      <td>2017-05-10</td>\n",
       "    </tr>\n",
       "    <tr>\n",
       "      <th>44163</th>\n",
       "      <td>4.0</td>\n",
       "      <td>2.5</td>\n",
       "      <td>0.468007</td>\n",
       "      <td>428006.0</td>\n",
       "      <td>6059.0</td>\n",
       "      <td>2017-08-10</td>\n",
       "    </tr>\n",
       "    <tr>\n",
       "      <th>10852</th>\n",
       "      <td>3.0</td>\n",
       "      <td>2.0</td>\n",
       "      <td>0.351925</td>\n",
       "      <td>73054.0</td>\n",
       "      <td>6037.0</td>\n",
       "      <td>2017-06-15</td>\n",
       "    </tr>\n",
       "  </tbody>\n",
       "</table>\n",
       "<p>26073 rows × 6 columns</p>\n",
       "</div>"
      ],
      "text/plain": [
       "       bedrooms  bathrooms      area  tax_value    fips   sale_date\n",
       "31478       4.0        2.0  0.311155   147333.0  6059.0  2017-06-15\n",
       "30505       3.0        2.0  0.236127   475000.0  6037.0  2017-06-09\n",
       "44417       2.0        1.0  0.111552    37645.0  6037.0  2017-08-11\n",
       "36508       4.0        2.0  0.360419    75122.0  6037.0  2017-07-04\n",
       "17712       3.0        2.0  0.257644   658896.0  6037.0  2017-04-14\n",
       "...         ...        ...       ...        ...     ...         ...\n",
       "49333       3.0        1.0  0.201586   300000.0  6037.0  2017-09-01\n",
       "25047       3.0        2.0  0.237542   380000.0  6111.0  2017-05-17\n",
       "23483       2.0        2.0  0.369479   331462.0  6059.0  2017-05-10\n",
       "44163       4.0        2.5  0.468007   428006.0  6059.0  2017-08-10\n",
       "10852       3.0        2.0  0.351925    73054.0  6037.0  2017-06-15\n",
       "\n",
       "[26073 rows x 6 columns]"
      ]
     },
     "execution_count": 123,
     "metadata": {},
     "output_type": "execute_result"
    }
   ],
   "source": [
    "scale_train"
   ]
  },
  {
   "cell_type": "code",
   "execution_count": null,
   "id": "778b44a9-fe27-41c4-a6d2-65756090fce2",
   "metadata": {},
   "outputs": [],
   "source": []
  },
  {
   "cell_type": "code",
   "execution_count": 130,
   "id": "fb59246b-b639-4ac0-98ab-26df6164aaa2",
   "metadata": {},
   "outputs": [
    {
     "data": {
      "text/plain": [
       "6037.0    30246\n",
       "6059.0    12342\n",
       "6111.0     3972\n",
       "Name: fips, dtype: int64"
      ]
     },
     "execution_count": 130,
     "metadata": {},
     "output_type": "execute_result"
    }
   ],
   "source": [
    "df.fips.value_counts()"
   ]
  }
 ],
 "metadata": {
  "kernelspec": {
   "display_name": "Python 3 (ipykernel)",
   "language": "python",
   "name": "python3"
  },
  "language_info": {
   "codemirror_mode": {
    "name": "ipython",
    "version": 3
   },
   "file_extension": ".py",
   "mimetype": "text/x-python",
   "name": "python",
   "nbconvert_exporter": "python",
   "pygments_lexer": "ipython3",
   "version": "3.9.13"
  }
 },
 "nbformat": 4,
 "nbformat_minor": 5
}
