{
 "cells": [
  {
   "cell_type": "markdown",
   "id": "5d4000dd-00ef-4927-9434-bfa48bdf3fed",
   "metadata": {},
   "source": [
    "# Zillow Report\n"
   ]
  },
  {
   "cell_type": "markdown",
   "id": "905af321-479f-46f5-a777-1d4b77a6398a",
   "metadata": {},
   "source": [
    "# Goal\n",
    "\n",
    "- Discover some potential drivers for property assessed values\n",
    "- Delvelope ML regresson models for property assessed values prediction\n",
    "- Reccomend some key factors to predict property assessed values"
   ]
  },
  {
   "cell_type": "markdown",
   "id": "b1df9696-4d13-4398-b90f-3e4d9a6329d4",
   "metadata": {},
   "source": [
    "# Imports"
   ]
  },
  {
   "cell_type": "code",
   "execution_count": 6,
   "id": "75799186-1d87-4116-a95a-958c302a44dd",
   "metadata": {},
   "outputs": [],
   "source": [
    "import pandas as pd\n",
    "import numpy as np\n",
    "import wrangle as wr\n",
    "import matplotlib.pyplot as plt\n",
    "\n",
    "# modeling methods\n",
    "from sklearn.metrics import mean_squared_error\n",
    "from sklearn.linear_model import LinearRegression, LassoLars, TweedieRegressor\n",
    "from sklearn.preprocessing import PolynomialFeatures\n",
    "from sklearn.metrics import explained_variance_score\n",
    "\n",
    "import warnings\n",
    "warnings.filterwarnings(\"ignore\")\n",
    "\n",
    "import wrangle as wr\n",
    "import functions as m"
   ]
  },
  {
   "cell_type": "markdown",
   "id": "66eaead2-8fc6-4876-beda-6e2c58c05ead",
   "metadata": {},
   "source": [
    "# Acquire"
   ]
  },
  {
   "cell_type": "markdown",
   "id": "2cd61a3f-8c45-4006-9faf-7dedba4d4c3c",
   "metadata": {},
   "source": [
    "- data acquired from SQL server\n",
    "- 52441 rows before cleaning\n",
    "- each row repersents a single family home"
   ]
  },
  {
   "cell_type": "markdown",
   "id": "4c5884c9-ebf6-41f4-89ca-e74a4a5d92b3",
   "metadata": {},
   "source": [
    "# Prepare"
   ]
  },
  {
   "cell_type": "markdown",
   "id": "a115daa9-ea2f-4d98-b3f8-bd9077b3b0d3",
   "metadata": {},
   "source": [
    "- removed 83 NANs\n",
    "- removed outliers\n",
    "- renamed columns\n",
    "    - bedroomcnt : bedrooms\n",
    "    - bathroomcnt : bathrooms\n",
    "    - calculatedfinishedsquarefeet : area\n",
    "    - taxvaluedollarcnt : tax_value\n",
    "    - transactiondate : sale_date\n",
    "- Split data into train, validate, and test (approx. 56/24/20) \n",
    "- scaled data with minmax scaler"
   ]
  },
  {
   "cell_type": "markdown",
   "id": "d732e907-0b4b-4f9c-a83c-2b2536ffd17c",
   "metadata": {},
   "source": [
    "# Data Dictionary\n",
    "\n"
   ]
  },
  {
   "cell_type": "markdown",
   "id": "fd67ad5f-9a2d-476a-9f9f-3f7139d317d2",
   "metadata": {},
   "source": [
    "|  Feature | Values | Description                                  |\n",
    "|-------------|:-----------:|-------------------------------------------------------------------------------------------------|\n",
    "| tax_value    | integer       | The cost of the property       |\n",
    "| Bedrooms |    integer    | The amount of bedrooms the property has |\n",
    "| Bathrooms | integer   | The amount of bathrooms the property has  |\n",
    "| Area| integer  | The area (squarefeet) the property has |\n",
    "| Fips| integer | The county and state code |\n",
    "| Sale_date | date yyyy/mm/dd str | The sale date of the property                                                           |"
   ]
  },
  {
   "cell_type": "markdown",
   "id": "461cbc94-7594-4735-b5c9-2076f3118af8",
   "metadata": {},
   "source": [
    "# A look at the data"
   ]
  },
  {
   "cell_type": "markdown",
   "id": "5926b0c6-a46a-45d6-96e9-04f4b582620a",
   "metadata": {},
   "source": [
    "### Train, Validate, Test"
   ]
  },
  {
   "cell_type": "code",
   "execution_count": 2,
   "id": "ced49832-23da-4801-a3ec-d960a3c97ff4",
   "metadata": {},
   "outputs": [
    {
     "name": "stdout",
     "output_type": "stream",
     "text": [
      "<class 'numpy.float64'>\n",
      "1.5\n",
      "<class 'numpy.float64'>\n",
      "0.5\n",
      "<class 'numpy.float64'>\n",
      "-289.0\n",
      "<class 'numpy.float64'>\n",
      "-444583.125\n"
     ]
    }
   ],
   "source": [
    "# Bringing in the data already split into train, validate and test\n",
    "train, val, test = wr.wrangle_zillow()"
   ]
  },
  {
   "cell_type": "code",
   "execution_count": 3,
   "id": "e849b8dd-64a5-4f9a-b476-47a0d03435f2",
   "metadata": {},
   "outputs": [
    {
     "data": {
      "text/html": [
       "<div>\n",
       "<style scoped>\n",
       "    .dataframe tbody tr th:only-of-type {\n",
       "        vertical-align: middle;\n",
       "    }\n",
       "\n",
       "    .dataframe tbody tr th {\n",
       "        vertical-align: top;\n",
       "    }\n",
       "\n",
       "    .dataframe thead th {\n",
       "        text-align: right;\n",
       "    }\n",
       "</style>\n",
       "<table border=\"1\" class=\"dataframe\">\n",
       "  <thead>\n",
       "    <tr style=\"text-align: right;\">\n",
       "      <th></th>\n",
       "      <th>bedrooms</th>\n",
       "      <th>bathrooms</th>\n",
       "      <th>area</th>\n",
       "      <th>tax_value</th>\n",
       "      <th>fips</th>\n",
       "      <th>sale_date</th>\n",
       "    </tr>\n",
       "  </thead>\n",
       "  <tbody>\n",
       "    <tr>\n",
       "      <th>31478</th>\n",
       "      <td>4.0</td>\n",
       "      <td>2.0</td>\n",
       "      <td>1425.0</td>\n",
       "      <td>147333.0</td>\n",
       "      <td>6059.0</td>\n",
       "      <td>2017-06-15</td>\n",
       "    </tr>\n",
       "    <tr>\n",
       "      <th>30505</th>\n",
       "      <td>3.0</td>\n",
       "      <td>2.0</td>\n",
       "      <td>1160.0</td>\n",
       "      <td>475000.0</td>\n",
       "      <td>6037.0</td>\n",
       "      <td>2017-06-09</td>\n",
       "    </tr>\n",
       "    <tr>\n",
       "      <th>44417</th>\n",
       "      <td>2.0</td>\n",
       "      <td>1.0</td>\n",
       "      <td>720.0</td>\n",
       "      <td>37645.0</td>\n",
       "      <td>6037.0</td>\n",
       "      <td>2017-08-11</td>\n",
       "    </tr>\n",
       "    <tr>\n",
       "      <th>36508</th>\n",
       "      <td>4.0</td>\n",
       "      <td>2.0</td>\n",
       "      <td>1599.0</td>\n",
       "      <td>75122.0</td>\n",
       "      <td>6037.0</td>\n",
       "      <td>2017-07-04</td>\n",
       "    </tr>\n",
       "    <tr>\n",
       "      <th>17712</th>\n",
       "      <td>3.0</td>\n",
       "      <td>2.0</td>\n",
       "      <td>1236.0</td>\n",
       "      <td>658896.0</td>\n",
       "      <td>6037.0</td>\n",
       "      <td>2017-04-14</td>\n",
       "    </tr>\n",
       "  </tbody>\n",
       "</table>\n",
       "</div>"
      ],
      "text/plain": [
       "       bedrooms  bathrooms    area  tax_value    fips   sale_date\n",
       "31478       4.0        2.0  1425.0   147333.0  6059.0  2017-06-15\n",
       "30505       3.0        2.0  1160.0   475000.0  6037.0  2017-06-09\n",
       "44417       2.0        1.0   720.0    37645.0  6037.0  2017-08-11\n",
       "36508       4.0        2.0  1599.0    75122.0  6037.0  2017-07-04\n",
       "17712       3.0        2.0  1236.0   658896.0  6037.0  2017-04-14"
      ]
     },
     "execution_count": 3,
     "metadata": {},
     "output_type": "execute_result"
    }
   ],
   "source": [
    "# First 5 rows of the data\n",
    "train.head()"
   ]
  },
  {
   "cell_type": "markdown",
   "id": "bbaf8a9f-243e-4c0f-a979-fef07e2a1300",
   "metadata": {},
   "source": [
    "# A summary of the data"
   ]
  },
  {
   "cell_type": "code",
   "execution_count": 4,
   "id": "1f3a9cd4-168f-4840-a470-5ab52b393093",
   "metadata": {},
   "outputs": [
    {
     "data": {
      "text/html": [
       "<div>\n",
       "<style scoped>\n",
       "    .dataframe tbody tr th:only-of-type {\n",
       "        vertical-align: middle;\n",
       "    }\n",
       "\n",
       "    .dataframe tbody tr th {\n",
       "        vertical-align: top;\n",
       "    }\n",
       "\n",
       "    .dataframe thead th {\n",
       "        text-align: right;\n",
       "    }\n",
       "</style>\n",
       "<table border=\"1\" class=\"dataframe\">\n",
       "  <thead>\n",
       "    <tr style=\"text-align: right;\">\n",
       "      <th></th>\n",
       "      <th>bedrooms</th>\n",
       "      <th>bathrooms</th>\n",
       "      <th>area</th>\n",
       "      <th>tax_value</th>\n",
       "    </tr>\n",
       "  </thead>\n",
       "  <tbody>\n",
       "    <tr>\n",
       "      <th>count</th>\n",
       "      <td>26073.000000</td>\n",
       "      <td>26073.000000</td>\n",
       "      <td>26073.000000</td>\n",
       "      <td>2.607300e+04</td>\n",
       "    </tr>\n",
       "    <tr>\n",
       "      <th>mean</th>\n",
       "      <td>3.230353</td>\n",
       "      <td>2.129310</td>\n",
       "      <td>1736.301423</td>\n",
       "      <td>3.870435e+05</td>\n",
       "    </tr>\n",
       "    <tr>\n",
       "      <th>std</th>\n",
       "      <td>0.791575</td>\n",
       "      <td>0.745082</td>\n",
       "      <td>645.384315</td>\n",
       "      <td>2.616834e+05</td>\n",
       "    </tr>\n",
       "    <tr>\n",
       "      <th>min</th>\n",
       "      <td>2.000000</td>\n",
       "      <td>1.000000</td>\n",
       "      <td>326.000000</td>\n",
       "      <td>1.000000e+03</td>\n",
       "    </tr>\n",
       "    <tr>\n",
       "      <th>25%</th>\n",
       "      <td>3.000000</td>\n",
       "      <td>2.000000</td>\n",
       "      <td>1248.000000</td>\n",
       "      <td>1.785690e+05</td>\n",
       "    </tr>\n",
       "    <tr>\n",
       "      <th>50%</th>\n",
       "      <td>3.000000</td>\n",
       "      <td>2.000000</td>\n",
       "      <td>1595.000000</td>\n",
       "      <td>3.441690e+05</td>\n",
       "    </tr>\n",
       "    <tr>\n",
       "      <th>75%</th>\n",
       "      <td>4.000000</td>\n",
       "      <td>3.000000</td>\n",
       "      <td>2109.000000</td>\n",
       "      <td>5.379860e+05</td>\n",
       "    </tr>\n",
       "    <tr>\n",
       "      <th>max</th>\n",
       "      <td>5.000000</td>\n",
       "      <td>4.000000</td>\n",
       "      <td>3858.000000</td>\n",
       "      <td>1.255500e+06</td>\n",
       "    </tr>\n",
       "  </tbody>\n",
       "</table>\n",
       "</div>"
      ],
      "text/plain": [
       "           bedrooms     bathrooms          area     tax_value\n",
       "count  26073.000000  26073.000000  26073.000000  2.607300e+04\n",
       "mean       3.230353      2.129310   1736.301423  3.870435e+05\n",
       "std        0.791575      0.745082    645.384315  2.616834e+05\n",
       "min        2.000000      1.000000    326.000000  1.000000e+03\n",
       "25%        3.000000      2.000000   1248.000000  1.785690e+05\n",
       "50%        3.000000      2.000000   1595.000000  3.441690e+05\n",
       "75%        4.000000      3.000000   2109.000000  5.379860e+05\n",
       "max        5.000000      4.000000   3858.000000  1.255500e+06"
      ]
     },
     "execution_count": 4,
     "metadata": {},
     "output_type": "execute_result"
    }
   ],
   "source": [
    "# A summary of the train data minus fips column \n",
    "train.drop(columns='fips').describe()"
   ]
  },
  {
   "cell_type": "markdown",
   "id": "841f6d50-4691-4133-b335-22572d343db4",
   "metadata": {},
   "source": [
    "# Explore"
   ]
  },
  {
   "cell_type": "code",
   "execution_count": 5,
   "id": "08a475ee-2fba-4856-b067-3e53c0ec9702",
   "metadata": {},
   "outputs": [
    {
     "data": {
      "image/png": "[encoded data removed]",
      "text/plain": [
       "<Figure size 640x480 with 2 Axes>"
      ]
     },
     "metadata": {},
     "output_type": "display_data"
    },
    {
     "data": {
      "image/png": "[encoded data removed]",
      "text/plain": [
       "<Figure size 1600x300 with 4 Axes>"
      ]
     },
     "metadata": {},
     "output_type": "display_data"
    }
   ],
   "source": [
    "# get the distibution and correlation visuals of the features\n",
    "m.get_distribution_and_corr(train)"
   ]
  },
  {
   "cell_type": "markdown",
   "id": "50a56b87-e980-48b6-b53b-6cf6493a6096",
   "metadata": {},
   "source": [
    "- features have not normal distribution\n",
    "- correlation pretty low for the features and the target\n"
   ]
  },
  {
   "cell_type": "markdown",
   "id": "46d9c13b-e86f-4ba0-b13b-dc800b43ec93",
   "metadata": {},
   "source": [
    "## Q1 What is the relationship bedrooms and tax_value?"
   ]
  },
  {
   "cell_type": "markdown",
   "id": "ccbbca7c-f058-4c1a-81fc-5a7f06d7c6b9",
   "metadata": {},
   "source": [
    "#### H$_ø$: There is no realationship between bedrooms and tax_value\n",
    "#### H$_a$: There is a relationshop between bedrroms and tax_value"
   ]
  },
  {
   "cell_type": "code",
   "execution_count": null,
   "id": "4c65548c-c14c-4361-a536-1589ae2255e9",
   "metadata": {},
   "outputs": [],
   "source": []
  },
  {
   "cell_type": "code",
   "execution_count": null,
   "id": "7ab2e37f-fbef-44a1-954d-6719cf9cf1a3",
   "metadata": {},
   "outputs": [],
   "source": []
  },
  {
   "cell_type": "code",
   "execution_count": null,
   "id": "4b3947d6-5a06-47ba-8218-7425acf4c2ae",
   "metadata": {},
   "outputs": [],
   "source": []
  },
  {
   "cell_type": "code",
   "execution_count": null,
   "id": "ec4d1507-1cab-453b-8609-86ed299dbb09",
   "metadata": {},
   "outputs": [],
   "source": []
  },
  {
   "cell_type": "code",
   "execution_count": null,
   "id": "05a4b56c-82a4-477a-ad85-3bd9c205c6e3",
   "metadata": {},
   "outputs": [],
   "source": []
  },
  {
   "cell_type": "code",
   "execution_count": null,
   "id": "209e4277-0f3d-4cb3-987f-5e09640ab337",
   "metadata": {},
   "outputs": [],
   "source": []
  },
  {
   "cell_type": "code",
   "execution_count": null,
   "id": "6703ed9c-8cfe-481b-99b8-5798a6bbc06e",
   "metadata": {},
   "outputs": [],
   "source": []
  },
  {
   "cell_type": "code",
   "execution_count": null,
   "id": "4e068bfd-dbae-4123-a7b8-b82949ce9774",
   "metadata": {},
   "outputs": [],
   "source": []
  },
  {
   "cell_type": "code",
   "execution_count": null,
   "id": "24caf605-8ff4-477d-b0b5-51e0890539f6",
   "metadata": {},
   "outputs": [],
   "source": []
  },
  {
   "cell_type": "code",
   "execution_count": null,
   "id": "9a4de657-b054-403f-8773-7c3c8275f339",
   "metadata": {},
   "outputs": [],
   "source": []
  },
  {
   "cell_type": "code",
   "execution_count": null,
   "id": "ed36358e-210b-46b5-8b91-9bb22bc8e5c5",
   "metadata": {},
   "outputs": [],
   "source": []
  },
  {
   "cell_type": "code",
   "execution_count": null,
   "id": "b7d63296-57c4-4582-83bb-4f179b012399",
   "metadata": {},
   "outputs": [],
   "source": []
  },
  {
   "cell_type": "code",
   "execution_count": null,
   "id": "4149f678-22e4-45e4-a6d2-1be2ab22aefb",
   "metadata": {},
   "outputs": [],
   "source": []
  }
 ],
 "metadata": {
  "kernelspec": {
   "display_name": "Python 3 (ipykernel)",
   "language": "python",
   "name": "python3"
  },
  "language_info": {
   "codemirror_mode": {
    "name": "ipython",
    "version": 3
   },
   "file_extension": ".py",
   "mimetype": "text/x-python",
   "name": "python",
   "nbconvert_exporter": "python",
   "pygments_lexer": "ipython3",
   "version": "3.9.13"
  }
 },
 "nbformat": 4,
 "nbformat_minor": 5
}
