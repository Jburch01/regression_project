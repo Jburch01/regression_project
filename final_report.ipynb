{
 "cells": [
  {
   "cell_type": "markdown",
   "id": "5d4000dd-00ef-4927-9434-bfa48bdf3fed",
   "metadata": {},
   "source": [
    "# Zillow Report\n"
   ]
  },
  {
   "cell_type": "markdown",
   "id": "905af321-479f-46f5-a777-1d4b77a6398a",
   "metadata": {},
   "source": [
    "# Goal\n",
    "\n",
    "- Discover some potential drivers for property assessed values\n",
    "- Delvelope ML regresson models for property assessed values prediction\n",
    "- Reccomend some key factors to predict property assessed values"
   ]
  },
  {
   "cell_type": "markdown",
   "id": "b1df9696-4d13-4398-b90f-3e4d9a6329d4",
   "metadata": {},
   "source": [
    "# Imports"
   ]
  },
  {
   "cell_type": "code",
   "execution_count": 1,
   "id": "75799186-1d87-4116-a95a-958c302a44dd",
   "metadata": {},
   "outputs": [],
   "source": [
    "import pandas as pd\n",
    "import numpy as np\n",
    "import wrangle as wr\n",
    "import matplotlib.pyplot as plt\n",
    "import seaborn as sns\n",
    "\n",
    "# modeling methods\n",
    "from sklearn.metrics import mean_squared_error\n",
    "from sklearn.linear_model import LinearRegression, LassoLars, TweedieRegressor\n",
    "from sklearn.preprocessing import PolynomialFeatures\n",
    "from sklearn.metrics import explained_variance_score\n",
    "\n",
    "import warnings\n",
    "warnings.filterwarnings(\"ignore\")\n",
    "\n",
    "import wrangle as wr\n",
    "import functions as m"
   ]
  },
  {
   "cell_type": "markdown",
   "id": "66eaead2-8fc6-4876-beda-6e2c58c05ead",
   "metadata": {},
   "source": [
    "# Acquire"
   ]
  },
  {
   "cell_type": "markdown",
   "id": "2cd61a3f-8c45-4006-9faf-7dedba4d4c3c",
   "metadata": {},
   "source": [
    "- data acquired from SQL server\n",
    "- 52441 rows before cleaning\n",
    "- each row repersents a single family home"
   ]
  },
  {
   "cell_type": "markdown",
   "id": "4c5884c9-ebf6-41f4-89ca-e74a4a5d92b3",
   "metadata": {},
   "source": [
    "# Prepare"
   ]
  },
  {
   "cell_type": "markdown",
   "id": "a115daa9-ea2f-4d98-b3f8-bd9077b3b0d3",
   "metadata": {},
   "source": [
    "- removed 83 NANs\n",
    "- removed outliers\n",
    "- renamed columns\n",
    "    - bedroomcnt : bedrooms\n",
    "    - bathroomcnt : bathrooms\n",
    "    - calculatedfinishedsquarefeet : area\n",
    "    - taxvaluedollarcnt : tax_value\n",
    "    - transactiondate : sale_date\n",
    "- Split data into train, validate, and test (approx. 56/24/20) \n",
    "- scaled data with minmax scaler"
   ]
  },
  {
   "cell_type": "markdown",
   "id": "d732e907-0b4b-4f9c-a83c-2b2536ffd17c",
   "metadata": {},
   "source": [
    "# Data Dictionary\n",
    "\n"
   ]
  },
  {
   "cell_type": "markdown",
   "id": "fd67ad5f-9a2d-476a-9f9f-3f7139d317d2",
   "metadata": {},
   "source": [
    "|  Feature | Values | Description                                  |\n",
    "|-------------|:-----------:|-------------------------------------------------------------------------------------------------|\n",
    "| tax_value    | integer       | The cost of the property       |\n",
    "| Bedrooms |    integer    | The amount of bedrooms the property has |\n",
    "| Bathrooms | integer   | The amount of bathrooms the property has  |\n",
    "| Area| integer  | The area (squarefeet) the property has |\n",
    "| Fips| integer | The county and state code |\n",
    "| Sale_date | date yyyy/mm/dd str | The sale date of the property                                                           |"
   ]
  },
  {
   "cell_type": "markdown",
   "id": "461cbc94-7594-4735-b5c9-2076f3118af8",
   "metadata": {},
   "source": [
    "# A look at the data"
   ]
  },
  {
   "cell_type": "markdown",
   "id": "5926b0c6-a46a-45d6-96e9-04f4b582620a",
   "metadata": {},
   "source": [
    "### Train, Validate, Test"
   ]
  },
  {
   "cell_type": "code",
   "execution_count": 2,
   "id": "ced49832-23da-4801-a3ec-d960a3c97ff4",
   "metadata": {},
   "outputs": [
    {
     "name": "stdout",
     "output_type": "stream",
     "text": [
      "<class 'numpy.float64'>\n",
      "1.5\n",
      "<class 'numpy.float64'>\n",
      "0.5\n",
      "<class 'numpy.float64'>\n",
      "-289.0\n",
      "<class 'numpy.float64'>\n",
      "-444583.125\n"
     ]
    }
   ],
   "source": [
    "# Bringing in the data already split into train, validate and test\n",
    "train, val, test = wr.wrangle_zillow()"
   ]
  },
  {
   "cell_type": "code",
   "execution_count": 3,
   "id": "e849b8dd-64a5-4f9a-b476-47a0d03435f2",
   "metadata": {},
   "outputs": [
    {
     "data": {
      "text/html": [
       "<div>\n",
       "<style scoped>\n",
       "    .dataframe tbody tr th:only-of-type {\n",
       "        vertical-align: middle;\n",
       "    }\n",
       "\n",
       "    .dataframe tbody tr th {\n",
       "        vertical-align: top;\n",
       "    }\n",
       "\n",
       "    .dataframe thead th {\n",
       "        text-align: right;\n",
       "    }\n",
       "</style>\n",
       "<table border=\"1\" class=\"dataframe\">\n",
       "  <thead>\n",
       "    <tr style=\"text-align: right;\">\n",
       "      <th></th>\n",
       "      <th>bedrooms</th>\n",
       "      <th>bathrooms</th>\n",
       "      <th>area</th>\n",
       "      <th>tax_value</th>\n",
       "      <th>fips</th>\n",
       "      <th>sale_date</th>\n",
       "    </tr>\n",
       "  </thead>\n",
       "  <tbody>\n",
       "    <tr>\n",
       "      <th>31478</th>\n",
       "      <td>4.0</td>\n",
       "      <td>2.0</td>\n",
       "      <td>1425.0</td>\n",
       "      <td>147333.0</td>\n",
       "      <td>6059.0</td>\n",
       "      <td>2017-06-15</td>\n",
       "    </tr>\n",
       "    <tr>\n",
       "      <th>30505</th>\n",
       "      <td>3.0</td>\n",
       "      <td>2.0</td>\n",
       "      <td>1160.0</td>\n",
       "      <td>475000.0</td>\n",
       "      <td>6037.0</td>\n",
       "      <td>2017-06-09</td>\n",
       "    </tr>\n",
       "    <tr>\n",
       "      <th>44417</th>\n",
       "      <td>2.0</td>\n",
       "      <td>1.0</td>\n",
       "      <td>720.0</td>\n",
       "      <td>37645.0</td>\n",
       "      <td>6037.0</td>\n",
       "      <td>2017-08-11</td>\n",
       "    </tr>\n",
       "    <tr>\n",
       "      <th>36508</th>\n",
       "      <td>4.0</td>\n",
       "      <td>2.0</td>\n",
       "      <td>1599.0</td>\n",
       "      <td>75122.0</td>\n",
       "      <td>6037.0</td>\n",
       "      <td>2017-07-04</td>\n",
       "    </tr>\n",
       "    <tr>\n",
       "      <th>17712</th>\n",
       "      <td>3.0</td>\n",
       "      <td>2.0</td>\n",
       "      <td>1236.0</td>\n",
       "      <td>658896.0</td>\n",
       "      <td>6037.0</td>\n",
       "      <td>2017-04-14</td>\n",
       "    </tr>\n",
       "  </tbody>\n",
       "</table>\n",
       "</div>"
      ],
      "text/plain": [
       "       bedrooms  bathrooms    area  tax_value    fips   sale_date\n",
       "31478       4.0        2.0  1425.0   147333.0  6059.0  2017-06-15\n",
       "30505       3.0        2.0  1160.0   475000.0  6037.0  2017-06-09\n",
       "44417       2.0        1.0   720.0    37645.0  6037.0  2017-08-11\n",
       "36508       4.0        2.0  1599.0    75122.0  6037.0  2017-07-04\n",
       "17712       3.0        2.0  1236.0   658896.0  6037.0  2017-04-14"
      ]
     },
     "execution_count": 3,
     "metadata": {},
     "output_type": "execute_result"
    }
   ],
   "source": [
    "# First 5 rows of the data\n",
    "train.head()"
   ]
  },
  {
   "cell_type": "markdown",
   "id": "bbaf8a9f-243e-4c0f-a979-fef07e2a1300",
   "metadata": {},
   "source": [
    "# A summary of the data"
   ]
  },
  {
   "cell_type": "code",
   "execution_count": 4,
   "id": "1f3a9cd4-168f-4840-a470-5ab52b393093",
   "metadata": {},
   "outputs": [
    {
     "data": {
      "text/html": [
       "<div>\n",
       "<style scoped>\n",
       "    .dataframe tbody tr th:only-of-type {\n",
       "        vertical-align: middle;\n",
       "    }\n",
       "\n",
       "    .dataframe tbody tr th {\n",
       "        vertical-align: top;\n",
       "    }\n",
       "\n",
       "    .dataframe thead th {\n",
       "        text-align: right;\n",
       "    }\n",
       "</style>\n",
       "<table border=\"1\" class=\"dataframe\">\n",
       "  <thead>\n",
       "    <tr style=\"text-align: right;\">\n",
       "      <th></th>\n",
       "      <th>bedrooms</th>\n",
       "      <th>bathrooms</th>\n",
       "      <th>area</th>\n",
       "      <th>tax_value</th>\n",
       "    </tr>\n",
       "  </thead>\n",
       "  <tbody>\n",
       "    <tr>\n",
       "      <th>count</th>\n",
       "      <td>26073.000000</td>\n",
       "      <td>26073.000000</td>\n",
       "      <td>26073.000000</td>\n",
       "      <td>2.607300e+04</td>\n",
       "    </tr>\n",
       "    <tr>\n",
       "      <th>mean</th>\n",
       "      <td>3.230353</td>\n",
       "      <td>2.129310</td>\n",
       "      <td>1736.301423</td>\n",
       "      <td>3.870435e+05</td>\n",
       "    </tr>\n",
       "    <tr>\n",
       "      <th>std</th>\n",
       "      <td>0.791575</td>\n",
       "      <td>0.745082</td>\n",
       "      <td>645.384315</td>\n",
       "      <td>2.616834e+05</td>\n",
       "    </tr>\n",
       "    <tr>\n",
       "      <th>min</th>\n",
       "      <td>2.000000</td>\n",
       "      <td>1.000000</td>\n",
       "      <td>326.000000</td>\n",
       "      <td>1.000000e+03</td>\n",
       "    </tr>\n",
       "    <tr>\n",
       "      <th>25%</th>\n",
       "      <td>3.000000</td>\n",
       "      <td>2.000000</td>\n",
       "      <td>1248.000000</td>\n",
       "      <td>1.785690e+05</td>\n",
       "    </tr>\n",
       "    <tr>\n",
       "      <th>50%</th>\n",
       "      <td>3.000000</td>\n",
       "      <td>2.000000</td>\n",
       "      <td>1595.000000</td>\n",
       "      <td>3.441690e+05</td>\n",
       "    </tr>\n",
       "    <tr>\n",
       "      <th>75%</th>\n",
       "      <td>4.000000</td>\n",
       "      <td>3.000000</td>\n",
       "      <td>2109.000000</td>\n",
       "      <td>5.379860e+05</td>\n",
       "    </tr>\n",
       "    <tr>\n",
       "      <th>max</th>\n",
       "      <td>5.000000</td>\n",
       "      <td>4.000000</td>\n",
       "      <td>3858.000000</td>\n",
       "      <td>1.255500e+06</td>\n",
       "    </tr>\n",
       "  </tbody>\n",
       "</table>\n",
       "</div>"
      ],
      "text/plain": [
       "           bedrooms     bathrooms          area     tax_value\n",
       "count  26073.000000  26073.000000  26073.000000  2.607300e+04\n",
       "mean       3.230353      2.129310   1736.301423  3.870435e+05\n",
       "std        0.791575      0.745082    645.384315  2.616834e+05\n",
       "min        2.000000      1.000000    326.000000  1.000000e+03\n",
       "25%        3.000000      2.000000   1248.000000  1.785690e+05\n",
       "50%        3.000000      2.000000   1595.000000  3.441690e+05\n",
       "75%        4.000000      3.000000   2109.000000  5.379860e+05\n",
       "max        5.000000      4.000000   3858.000000  1.255500e+06"
      ]
     },
     "execution_count": 4,
     "metadata": {},
     "output_type": "execute_result"
    }
   ],
   "source": [
    "# A summary of the train data minus fips column \n",
    "train.drop(columns='fips').describe()"
   ]
  },
  {
   "cell_type": "markdown",
   "id": "841f6d50-4691-4133-b335-22572d343db4",
   "metadata": {},
   "source": [
    "# Explore"
   ]
  },
  {
   "cell_type": "code",
   "execution_count": 5,
   "id": "08a475ee-2fba-4856-b067-3e53c0ec9702",
   "metadata": {},
   "outputs": [
    {
     "data": {
      "image/png": "[encoded data removed]",
      "text/plain": [
       "<Figure size 640x480 with 2 Axes>"
      ]
     },
     "metadata": {},
     "output_type": "display_data"
    },
    {
     "data": {
      "image/png": "[encoded data removed]",
      "text/plain": [
       "<Figure size 1600x300 with 4 Axes>"
      ]
     },
     "metadata": {},
     "output_type": "display_data"
    }
   ],
   "source": [
    "# get the distibution and correlation visuals of the features\n",
    "m.get_distribution_and_corr(train)"
   ]
  },
  {
   "cell_type": "markdown",
   "id": "50a56b87-e980-48b6-b53b-6cf6493a6096",
   "metadata": {},
   "source": [
    "- features have not normal distribution\n",
    "- correlation pretty low for the features and the target\n"
   ]
  },
  {
   "cell_type": "markdown",
   "id": "46d9c13b-e86f-4ba0-b13b-dc800b43ec93",
   "metadata": {},
   "source": [
    "## Q1 What is the relationship bedrooms and tax_value?"
   ]
  },
  {
   "cell_type": "markdown",
   "id": "ccbbca7c-f058-4c1a-81fc-5a7f06d7c6b9",
   "metadata": {},
   "source": [
    "#### H$_ø$: There is no realationship between bedrooms and tax_value\n",
    "#### H$_a$: There is a relationshop between bedrroms and tax_value"
   ]
  },
  {
   "cell_type": "code",
   "execution_count": 6,
   "id": "1fe1a214-01a5-49b6-bcca-24666afee150",
   "metadata": {},
   "outputs": [
    {
     "data": {
      "image/png": "[encoded data removed]",
      "text/plain": [
       "<Figure size 640x480 with 1 Axes>"
      ]
     },
     "metadata": {},
     "output_type": "display_data"
    }
   ],
   "source": [
    "# returns a barplot for the target and the feature\n",
    "m.get_visual(train, 'bedrooms', 'tax_value', sns.barplot)"
   ]
  },
  {
   "cell_type": "markdown",
   "id": "4728ad22-d839-4e8c-a7ac-b605a78f181a",
   "metadata": {},
   "source": [
    "- appears to have correlation\n",
    "- as bedroom amount increases so does the tax_value\n",
    "- Lets do a stats test to be sure"
   ]
  },
  {
   "cell_type": "markdown",
   "id": "c5f27038-d5e1-4dc0-9b60-c3e6d2c273e0",
   "metadata": {},
   "source": [
    "### Stats test"
   ]
  },
  {
   "cell_type": "code",
   "execution_count": 7,
   "id": "4c65548c-c14c-4361-a536-1589ae2255e9",
   "metadata": {},
   "outputs": [
    {
     "name": "stdout",
     "output_type": "stream",
     "text": [
      "We can reject our null hypothesis with a p-value: 1.665954194223961e-263\n",
      "The correlation is 0.21232231429211643\n"
     ]
    }
   ],
   "source": [
    "# Get stats test for x and y \n",
    "m.stats_test('bedrooms', 'tax_value', train)"
   ]
  },
  {
   "cell_type": "markdown",
   "id": "041a9fef-cb25-4254-afc3-a4565a54ef70",
   "metadata": {},
   "source": [
    "- since our features do not have normal distribution a spearmansR test was preformed\n",
    "- The P value is lower then the alpha (0.05) the null hypthesis was rejected\n",
    "- not a very strong correlation "
   ]
  },
  {
   "cell_type": "markdown",
   "id": "c3f09fe5-2ae9-47c3-87a1-d2bb495272b6",
   "metadata": {},
   "source": [
    "### Q2 Is there a realationship between bathrooms and tax_value"
   ]
  },
  {
   "cell_type": "markdown",
   "id": "a80af235-6f3f-4b52-a52b-689cdaae2d63",
   "metadata": {},
   "source": [
    "#### H$_ø$: There is no realationship between bathrooms and tax_value\n",
    "#### H$_a$: There is a relationshop between bathrooms and tax_value"
   ]
  },
  {
   "cell_type": "code",
   "execution_count": 8,
   "id": "05a4b56c-82a4-477a-ad85-3bd9c205c6e3",
   "metadata": {},
   "outputs": [
    {
     "data": {
      "image/png": "[encoded data removed]",
      "text/plain": [
       "<Figure size 640x480 with 1 Axes>"
      ]
     },
     "metadata": {},
     "output_type": "display_data"
    }
   ],
   "source": [
    "m.get_visual(train, 'bathrooms', 'tax_value', sns.boxplot)"
   ]
  },
  {
   "cell_type": "markdown",
   "id": "0ec6522f-83ef-4d42-a559-b03bc1ee7595",
   "metadata": {},
   "source": [
    "- boxplot shows some correlation but with a lot of outliers in 1 - 2.5 bathrooms\n",
    "- lets do another stats test to confirm"
   ]
  },
  {
   "cell_type": "markdown",
   "id": "a48c7dae-616a-4729-9ec0-a780d411c0cb",
   "metadata": {},
   "source": [
    "### Stats test"
   ]
  },
  {
   "cell_type": "code",
   "execution_count": 9,
   "id": "4e068bfd-dbae-4123-a7b8-b82949ce9774",
   "metadata": {},
   "outputs": [
    {
     "name": "stdout",
     "output_type": "stream",
     "text": [
      "We can reject our null hypothesis with a p-value: 0.0\n",
      "The correlation is 0.394542210251\n"
     ]
    }
   ],
   "source": [
    "# Get stats test for x and y \n",
    "m.stats_test('bathrooms', 'tax_value', train)"
   ]
  },
  {
   "cell_type": "markdown",
   "id": "df6bafe3-cf77-4340-970c-ca3c11602b55",
   "metadata": {},
   "source": [
    "- The P value is lower then the alpha (0.05) the null hypthesis was rejected\n",
    "- Not a strong correlations but better than bedrooms"
   ]
  },
  {
   "cell_type": "markdown",
   "id": "63232000-8e64-449b-aee3-dfb5d3253447",
   "metadata": {},
   "source": [
    "## Q3 relationship between area and bathrooms?"
   ]
  },
  {
   "cell_type": "code",
   "execution_count": 10,
   "id": "ed36358e-210b-46b5-8b91-9bb22bc8e5c5",
   "metadata": {},
   "outputs": [
    {
     "data": {
      "image/png": "[encoded data removed]",
      "text/plain": [
       "<Figure size 640x480 with 1 Axes>"
      ]
     },
     "metadata": {},
     "output_type": "display_data"
    }
   ],
   "source": [
    "m.get_visual(train, 'bathrooms', 'area', sns.barplot)"
   ]
  },
  {
   "cell_type": "markdown",
   "id": "75a9c393-7e10-48e3-80d0-6581245e67d5",
   "metadata": {},
   "source": [
    "- Appears to have great correlation \n",
    "- still want to do stats test to make sure"
   ]
  },
  {
   "cell_type": "markdown",
   "id": "c1034af1-82b2-48de-9291-a66c01fc9b9f",
   "metadata": {},
   "source": [
    "### Stats test"
   ]
  },
  {
   "cell_type": "code",
   "execution_count": 11,
   "id": "88ecf6db-9462-4319-aa48-501430e7fcc7",
   "metadata": {},
   "outputs": [
    {
     "name": "stdout",
     "output_type": "stream",
     "text": [
      "We can reject our null hypothesis with a p-value: 0.0\n",
      "The correlation is 0.8009813508460654\n"
     ]
    }
   ],
   "source": [
    "# Get stats test for x and y \n",
    "m.stats_test('bathrooms', 'area', train)"
   ]
  },
  {
   "cell_type": "markdown",
   "id": "d620b676-2dd6-45b1-a08f-1d1a823efb7e",
   "metadata": {},
   "source": [
    "- Null hypothesis is rejected \n",
    "- correlation is really high "
   ]
  },
  {
   "cell_type": "markdown",
   "id": "5b289181-32b9-46cd-b8b7-7e219148b3c3",
   "metadata": {},
   "source": [
    "## Q4 What is the realtion between area and tax value?"
   ]
  },
  {
   "cell_type": "markdown",
   "id": "7e9f41d7-970f-4b7e-8de9-107b6f048858",
   "metadata": {},
   "source": [
    "#### H$_ø$: There is no realationship between area and tax_value\n",
    "#### H$_a$: There is a relationshop between area and tax_value"
   ]
  },
  {
   "cell_type": "code",
   "execution_count": 12,
   "id": "1016a3a7-f318-449c-a4c8-c3af774b4023",
   "metadata": {},
   "outputs": [
    {
     "data": {
      "image/png": "[encoded data removed]",
      "text/plain": [
       "<Figure size 640x480 with 1 Axes>"
      ]
     },
     "metadata": {},
     "output_type": "display_data"
    }
   ],
   "source": [
    "m.get_regplot(train, 'area', 'tax_value')"
   ]
  },
  {
   "cell_type": "markdown",
   "id": "b3ddb2b4-bc8d-4f81-90ce-e9055ad61c4a",
   "metadata": {},
   "source": [
    "- Best fit line of regression pretty bad\n",
    "- Let's check the correlation and P value\n"
   ]
  },
  {
   "cell_type": "code",
   "execution_count": 13,
   "id": "8fbcd1fd-931b-43ba-8a2b-a6b75710cdc7",
   "metadata": {},
   "outputs": [
    {
     "name": "stdout",
     "output_type": "stream",
     "text": [
      "We can reject our null hypothesis with a p-value: 0.0\n",
      "The correlation is 0.43064331653991156\n"
     ]
    }
   ],
   "source": [
    "# Get stats test for x and y \n",
    "m.stats_test('area', 'tax_value', train)"
   ]
  },
  {
   "cell_type": "markdown",
   "id": "6f05e7c8-619a-49f9-b974-e11f74a13e3d",
   "metadata": {},
   "source": [
    "- we can rejected the null hypothesis\n",
    "- correlation is stronger then expected although pretty low still"
   ]
  },
  {
   "cell_type": "markdown",
   "id": "2405aaee-f422-44de-a1f3-53f25aa30d1e",
   "metadata": {},
   "source": [
    "# Exploration Summary"
   ]
  },
  {
   "cell_type": "markdown",
   "id": "f86fcf36-c91a-4b23-b67c-23098060cd2e",
   "metadata": {},
   "source": [
    "- Correlation for the features to the target pretty low\n",
    "- The best being area but still pretty low at 43%\n",
    "- Bathrooms and area had an unexpectedly high correlation at 80%\n",
    "- Going to move on to modeling with the features:\n",
    "    - Bedrooms\n",
    "    - Bathrooms\n",
    "    - Area"
   ]
  },
  {
   "cell_type": "markdown",
   "id": "83f256fe-5ad6-4a10-8cb0-81599fbb8615",
   "metadata": {},
   "source": [
    "# Let's Scale the data!"
   ]
  },
  {
   "cell_type": "code",
   "execution_count": 14,
   "id": "95cc7d83-68de-49ff-9f4a-c41e4022964d",
   "metadata": {},
   "outputs": [],
   "source": [
    "# Get the data scaled for train, val, test but only fit on train\n",
    "train_scale, val_scale, test_scale = wr.scale_data(train, val, test)"
   ]
  },
  {
   "cell_type": "code",
   "execution_count": 15,
   "id": "b8fe33dc-84fb-4bee-84cb-d0b83b07912b",
   "metadata": {},
   "outputs": [
    {
     "data": {
      "text/html": [
       "<div>\n",
       "<style scoped>\n",
       "    .dataframe tbody tr th:only-of-type {\n",
       "        vertical-align: middle;\n",
       "    }\n",
       "\n",
       "    .dataframe tbody tr th {\n",
       "        vertical-align: top;\n",
       "    }\n",
       "\n",
       "    .dataframe thead th {\n",
       "        text-align: right;\n",
       "    }\n",
       "</style>\n",
       "<table border=\"1\" class=\"dataframe\">\n",
       "  <thead>\n",
       "    <tr style=\"text-align: right;\">\n",
       "      <th></th>\n",
       "      <th>bedrooms</th>\n",
       "      <th>bathrooms</th>\n",
       "      <th>area</th>\n",
       "      <th>tax_value</th>\n",
       "      <th>fips</th>\n",
       "      <th>sale_date</th>\n",
       "    </tr>\n",
       "  </thead>\n",
       "  <tbody>\n",
       "    <tr>\n",
       "      <th>31478</th>\n",
       "      <td>4.0</td>\n",
       "      <td>2.0</td>\n",
       "      <td>0.311155</td>\n",
       "      <td>147333.0</td>\n",
       "      <td>6059.0</td>\n",
       "      <td>2017-06-15</td>\n",
       "    </tr>\n",
       "    <tr>\n",
       "      <th>30505</th>\n",
       "      <td>3.0</td>\n",
       "      <td>2.0</td>\n",
       "      <td>0.236127</td>\n",
       "      <td>475000.0</td>\n",
       "      <td>6037.0</td>\n",
       "      <td>2017-06-09</td>\n",
       "    </tr>\n",
       "    <tr>\n",
       "      <th>44417</th>\n",
       "      <td>2.0</td>\n",
       "      <td>1.0</td>\n",
       "      <td>0.111552</td>\n",
       "      <td>37645.0</td>\n",
       "      <td>6037.0</td>\n",
       "      <td>2017-08-11</td>\n",
       "    </tr>\n",
       "    <tr>\n",
       "      <th>36508</th>\n",
       "      <td>4.0</td>\n",
       "      <td>2.0</td>\n",
       "      <td>0.360419</td>\n",
       "      <td>75122.0</td>\n",
       "      <td>6037.0</td>\n",
       "      <td>2017-07-04</td>\n",
       "    </tr>\n",
       "    <tr>\n",
       "      <th>17712</th>\n",
       "      <td>3.0</td>\n",
       "      <td>2.0</td>\n",
       "      <td>0.257644</td>\n",
       "      <td>658896.0</td>\n",
       "      <td>6037.0</td>\n",
       "      <td>2017-04-14</td>\n",
       "    </tr>\n",
       "    <tr>\n",
       "      <th>...</th>\n",
       "      <td>...</td>\n",
       "      <td>...</td>\n",
       "      <td>...</td>\n",
       "      <td>...</td>\n",
       "      <td>...</td>\n",
       "      <td>...</td>\n",
       "    </tr>\n",
       "    <tr>\n",
       "      <th>49333</th>\n",
       "      <td>3.0</td>\n",
       "      <td>1.0</td>\n",
       "      <td>0.201586</td>\n",
       "      <td>300000.0</td>\n",
       "      <td>6037.0</td>\n",
       "      <td>2017-09-01</td>\n",
       "    </tr>\n",
       "    <tr>\n",
       "      <th>25047</th>\n",
       "      <td>3.0</td>\n",
       "      <td>2.0</td>\n",
       "      <td>0.237542</td>\n",
       "      <td>380000.0</td>\n",
       "      <td>6111.0</td>\n",
       "      <td>2017-05-17</td>\n",
       "    </tr>\n",
       "    <tr>\n",
       "      <th>23483</th>\n",
       "      <td>2.0</td>\n",
       "      <td>2.0</td>\n",
       "      <td>0.369479</td>\n",
       "      <td>331462.0</td>\n",
       "      <td>6059.0</td>\n",
       "      <td>2017-05-10</td>\n",
       "    </tr>\n",
       "    <tr>\n",
       "      <th>44163</th>\n",
       "      <td>4.0</td>\n",
       "      <td>2.5</td>\n",
       "      <td>0.468007</td>\n",
       "      <td>428006.0</td>\n",
       "      <td>6059.0</td>\n",
       "      <td>2017-08-10</td>\n",
       "    </tr>\n",
       "    <tr>\n",
       "      <th>10852</th>\n",
       "      <td>3.0</td>\n",
       "      <td>2.0</td>\n",
       "      <td>0.351925</td>\n",
       "      <td>73054.0</td>\n",
       "      <td>6037.0</td>\n",
       "      <td>2017-06-15</td>\n",
       "    </tr>\n",
       "  </tbody>\n",
       "</table>\n",
       "<p>26073 rows × 6 columns</p>\n",
       "</div>"
      ],
      "text/plain": [
       "       bedrooms  bathrooms      area  tax_value    fips   sale_date\n",
       "31478       4.0        2.0  0.311155   147333.0  6059.0  2017-06-15\n",
       "30505       3.0        2.0  0.236127   475000.0  6037.0  2017-06-09\n",
       "44417       2.0        1.0  0.111552    37645.0  6037.0  2017-08-11\n",
       "36508       4.0        2.0  0.360419    75122.0  6037.0  2017-07-04\n",
       "17712       3.0        2.0  0.257644   658896.0  6037.0  2017-04-14\n",
       "...         ...        ...       ...        ...     ...         ...\n",
       "49333       3.0        1.0  0.201586   300000.0  6037.0  2017-09-01\n",
       "25047       3.0        2.0  0.237542   380000.0  6111.0  2017-05-17\n",
       "23483       2.0        2.0  0.369479   331462.0  6059.0  2017-05-10\n",
       "44163       4.0        2.5  0.468007   428006.0  6059.0  2017-08-10\n",
       "10852       3.0        2.0  0.351925    73054.0  6037.0  2017-06-15\n",
       "\n",
       "[26073 rows x 6 columns]"
      ]
     },
     "execution_count": 15,
     "metadata": {},
     "output_type": "execute_result"
    }
   ],
   "source": [
    "train_scale"
   ]
  },
  {
   "cell_type": "markdown",
   "id": "a7dfd801-42d3-4f5c-b249-146ec328e55a",
   "metadata": {},
   "source": [
    "- Only feature to be scaled was area, since bedrooms and bathrooms are more discrete than continuous \n"
   ]
  },
  {
   "cell_type": "markdown",
   "id": "b9c78b94-71d4-4f32-8780-e943e6fd59fa",
   "metadata": {},
   "source": [
    "# Modeling\n"
   ]
  },
  {
   "cell_type": "code",
   "execution_count": 16,
   "id": "c55487c8-ff77-4776-aa73-a0c491d679ee",
   "metadata": {},
   "outputs": [],
   "source": [
    "#Let's get the x and y for or train, val, test\n",
    "x_train, y_train, x_val, y_val, x_test, y_test = m.get_target_and_features(train_scale, val_scale, test_scale)"
   ]
  },
  {
   "cell_type": "code",
   "execution_count": 17,
   "id": "36f5cb45-c45a-4844-849d-e0a32ac13617",
   "metadata": {},
   "outputs": [
    {
     "data": {
      "text/html": [
       "<div>\n",
       "<style scoped>\n",
       "    .dataframe tbody tr th:only-of-type {\n",
       "        vertical-align: middle;\n",
       "    }\n",
       "\n",
       "    .dataframe tbody tr th {\n",
       "        vertical-align: top;\n",
       "    }\n",
       "\n",
       "    .dataframe thead th {\n",
       "        text-align: right;\n",
       "    }\n",
       "</style>\n",
       "<table border=\"1\" class=\"dataframe\">\n",
       "  <thead>\n",
       "    <tr style=\"text-align: right;\">\n",
       "      <th></th>\n",
       "      <th>bedrooms</th>\n",
       "      <th>bathrooms</th>\n",
       "      <th>area</th>\n",
       "    </tr>\n",
       "  </thead>\n",
       "  <tbody>\n",
       "    <tr>\n",
       "      <th>31478</th>\n",
       "      <td>4.0</td>\n",
       "      <td>2.0</td>\n",
       "      <td>0.311155</td>\n",
       "    </tr>\n",
       "    <tr>\n",
       "      <th>30505</th>\n",
       "      <td>3.0</td>\n",
       "      <td>2.0</td>\n",
       "      <td>0.236127</td>\n",
       "    </tr>\n",
       "    <tr>\n",
       "      <th>44417</th>\n",
       "      <td>2.0</td>\n",
       "      <td>1.0</td>\n",
       "      <td>0.111552</td>\n",
       "    </tr>\n",
       "    <tr>\n",
       "      <th>36508</th>\n",
       "      <td>4.0</td>\n",
       "      <td>2.0</td>\n",
       "      <td>0.360419</td>\n",
       "    </tr>\n",
       "    <tr>\n",
       "      <th>17712</th>\n",
       "      <td>3.0</td>\n",
       "      <td>2.0</td>\n",
       "      <td>0.257644</td>\n",
       "    </tr>\n",
       "    <tr>\n",
       "      <th>...</th>\n",
       "      <td>...</td>\n",
       "      <td>...</td>\n",
       "      <td>...</td>\n",
       "    </tr>\n",
       "    <tr>\n",
       "      <th>49333</th>\n",
       "      <td>3.0</td>\n",
       "      <td>1.0</td>\n",
       "      <td>0.201586</td>\n",
       "    </tr>\n",
       "    <tr>\n",
       "      <th>25047</th>\n",
       "      <td>3.0</td>\n",
       "      <td>2.0</td>\n",
       "      <td>0.237542</td>\n",
       "    </tr>\n",
       "    <tr>\n",
       "      <th>23483</th>\n",
       "      <td>2.0</td>\n",
       "      <td>2.0</td>\n",
       "      <td>0.369479</td>\n",
       "    </tr>\n",
       "    <tr>\n",
       "      <th>44163</th>\n",
       "      <td>4.0</td>\n",
       "      <td>2.5</td>\n",
       "      <td>0.468007</td>\n",
       "    </tr>\n",
       "    <tr>\n",
       "      <th>10852</th>\n",
       "      <td>3.0</td>\n",
       "      <td>2.0</td>\n",
       "      <td>0.351925</td>\n",
       "    </tr>\n",
       "  </tbody>\n",
       "</table>\n",
       "<p>26073 rows × 3 columns</p>\n",
       "</div>"
      ],
      "text/plain": [
       "       bedrooms  bathrooms      area\n",
       "31478       4.0        2.0  0.311155\n",
       "30505       3.0        2.0  0.236127\n",
       "44417       2.0        1.0  0.111552\n",
       "36508       4.0        2.0  0.360419\n",
       "17712       3.0        2.0  0.257644\n",
       "...         ...        ...       ...\n",
       "49333       3.0        1.0  0.201586\n",
       "25047       3.0        2.0  0.237542\n",
       "23483       2.0        2.0  0.369479\n",
       "44163       4.0        2.5  0.468007\n",
       "10852       3.0        2.0  0.351925\n",
       "\n",
       "[26073 rows x 3 columns]"
      ]
     },
     "execution_count": 17,
     "metadata": {},
     "output_type": "execute_result"
    }
   ],
   "source": [
    "x_train"
   ]
  },
  {
   "cell_type": "markdown",
   "id": "5f0a7c28-3c32-48cc-95e4-9ad1f0e7d9ba",
   "metadata": {},
   "source": [
    "## Let's get the baseling predictions"
   ]
  },
  {
   "cell_type": "code",
   "execution_count": 18,
   "id": "32562105-e94f-47b3-af53-aa7747bca496",
   "metadata": {},
   "outputs": [
    {
     "name": "stdout",
     "output_type": "stream",
     "text": [
      "RMSE using Mean\n",
      "        Train/In-Sample: 261678.34 \n",
      "        Validate/Out-of-Sample: 257877.5\n"
     ]
    },
    {
     "data": {
      "text/html": [
       "<div>\n",
       "<style scoped>\n",
       "    .dataframe tbody tr th:only-of-type {\n",
       "        vertical-align: middle;\n",
       "    }\n",
       "\n",
       "    .dataframe tbody tr th {\n",
       "        vertical-align: top;\n",
       "    }\n",
       "\n",
       "    .dataframe thead th {\n",
       "        text-align: right;\n",
       "    }\n",
       "</style>\n",
       "<table border=\"1\" class=\"dataframe\">\n",
       "  <thead>\n",
       "    <tr style=\"text-align: right;\">\n",
       "      <th></th>\n",
       "      <th>tax_value</th>\n",
       "      <th>tax_value_baseline</th>\n",
       "    </tr>\n",
       "  </thead>\n",
       "  <tbody>\n",
       "    <tr>\n",
       "      <th>31478</th>\n",
       "      <td>147333.0</td>\n",
       "      <td>387043.487593</td>\n",
       "    </tr>\n",
       "    <tr>\n",
       "      <th>30505</th>\n",
       "      <td>475000.0</td>\n",
       "      <td>387043.487593</td>\n",
       "    </tr>\n",
       "    <tr>\n",
       "      <th>44417</th>\n",
       "      <td>37645.0</td>\n",
       "      <td>387043.487593</td>\n",
       "    </tr>\n",
       "    <tr>\n",
       "      <th>36508</th>\n",
       "      <td>75122.0</td>\n",
       "      <td>387043.487593</td>\n",
       "    </tr>\n",
       "    <tr>\n",
       "      <th>17712</th>\n",
       "      <td>658896.0</td>\n",
       "      <td>387043.487593</td>\n",
       "    </tr>\n",
       "    <tr>\n",
       "      <th>...</th>\n",
       "      <td>...</td>\n",
       "      <td>...</td>\n",
       "    </tr>\n",
       "    <tr>\n",
       "      <th>49333</th>\n",
       "      <td>300000.0</td>\n",
       "      <td>387043.487593</td>\n",
       "    </tr>\n",
       "    <tr>\n",
       "      <th>25047</th>\n",
       "      <td>380000.0</td>\n",
       "      <td>387043.487593</td>\n",
       "    </tr>\n",
       "    <tr>\n",
       "      <th>23483</th>\n",
       "      <td>331462.0</td>\n",
       "      <td>387043.487593</td>\n",
       "    </tr>\n",
       "    <tr>\n",
       "      <th>44163</th>\n",
       "      <td>428006.0</td>\n",
       "      <td>387043.487593</td>\n",
       "    </tr>\n",
       "    <tr>\n",
       "      <th>10852</th>\n",
       "      <td>73054.0</td>\n",
       "      <td>387043.487593</td>\n",
       "    </tr>\n",
       "  </tbody>\n",
       "</table>\n",
       "<p>26073 rows × 2 columns</p>\n",
       "</div>"
      ],
      "text/plain": [
       "       tax_value  tax_value_baseline\n",
       "31478   147333.0       387043.487593\n",
       "30505   475000.0       387043.487593\n",
       "44417    37645.0       387043.487593\n",
       "36508    75122.0       387043.487593\n",
       "17712   658896.0       387043.487593\n",
       "...          ...                 ...\n",
       "49333   300000.0       387043.487593\n",
       "25047   380000.0       387043.487593\n",
       "23483   331462.0       387043.487593\n",
       "44163   428006.0       387043.487593\n",
       "10852    73054.0       387043.487593\n",
       "\n",
       "[26073 rows x 2 columns]"
      ]
     },
     "execution_count": 18,
     "metadata": {},
     "output_type": "execute_result"
    }
   ],
   "source": [
    "# Get baseline predictions using the mean\n",
    "m.get_baseline(y_train, y_val)\n",
    "y_train"
   ]
  },
  {
   "cell_type": "markdown",
   "id": "68da81a2-1684-444c-a279-530a03d8d525",
   "metadata": {},
   "source": [
    "## Linear Regression"
   ]
  },
  {
   "cell_type": "code",
   "execution_count": 19,
   "id": "915ddea4-1843-4903-a668-8de5e9a13ebd",
   "metadata": {},
   "outputs": [
    {
     "name": "stdout",
     "output_type": "stream",
     "text": [
      "RMSE for OLS using LinearRegression\n",
      "        Training/In-Sample:  227888.18646744313 \n",
      "        Validation/Out-of-Sample: 227808.44877616025\n"
     ]
    }
   ],
   "source": [
    "# Get the linear regression model and print the RMSE for train and validate\n",
    "m.lr(x_train, y_train, x_val, y_val)"
   ]
  },
  {
   "cell_type": "markdown",
   "id": "540f0377-a0b2-49e0-a84b-5a8dffee2f1f",
   "metadata": {},
   "source": [
    "# LassoLars"
   ]
  },
  {
   "cell_type": "code",
   "execution_count": 20,
   "id": "00d436b6-452e-449e-a3ca-64bbd2ccfa16",
   "metadata": {},
   "outputs": [
    {
     "name": "stdout",
     "output_type": "stream",
     "text": [
      "RMSE for Lasso + Lars\n",
      "        _____________________\n",
      "        Training/In-Sample: 227888.18650013825, \n",
      "        Validation/Out-of-Sample:  227808.3677273643\n",
      "        Difference:  -79.81877277395688\n"
     ]
    }
   ],
   "source": [
    "# Get the lasso lars model and print the RMSE for train and validate\n",
    "m.lassolars(x_train, y_train, x_val, y_val)"
   ]
  },
  {
   "cell_type": "markdown",
   "id": "8ceb1d76-3fc9-4e90-8a96-b671ba766187",
   "metadata": {},
   "source": [
    "# Tweedie Regressor"
   ]
  },
  {
   "cell_type": "code",
   "execution_count": 21,
   "id": "63d2caff-2b33-4c20-b465-df832d7a6d4b",
   "metadata": {},
   "outputs": [
    {
     "name": "stdout",
     "output_type": "stream",
     "text": [
      "RMSE for GLM using Tweedie, power=1 & alpha=0\n",
      "        _____________________\n",
      "        Training/In-Sample: 228178.97805479032, \n",
      "        Validation/Out-of-Sample:  228669.6608239885\n",
      "        Difference:  490.68276919817436\n"
     ]
    }
   ],
   "source": [
    "# Get the tweedie regressor model and print the RMSE for train and validate\n",
    "m.tweedie(x_train, y_train, x_val, y_val)"
   ]
  },
  {
   "cell_type": "markdown",
   "id": "82f911e7-d155-47ff-9cff-999fa688a235",
   "metadata": {},
   "source": [
    "# Polynomial"
   ]
  },
  {
   "cell_type": "code",
   "execution_count": 22,
   "id": "88d4ff91-a9d8-4062-9857-fff145e48ab6",
   "metadata": {},
   "outputs": [
    {
     "name": "stdout",
     "output_type": "stream",
     "text": [
      "RMSE for Polynomial Model, degrees=2\n",
      "        _____________________________________________\n",
      "        Training/In-Sample:  227591.94913213322 \n",
      "        Validation/Out-of-Sample:  227857.6013631253\n"
     ]
    }
   ],
   "source": [
    "# Get the Polynomial model and print the RMSE for train and validate\n",
    "m.get_poly(x_train, y_train, x_val, y_val, x_test, y_test)"
   ]
  },
  {
   "cell_type": "markdown",
   "id": "b888db4c-7f16-4f9c-bd9b-b3ca61c65ea3",
   "metadata": {},
   "source": [
    "# Comparing Models"
   ]
  },
  {
   "cell_type": "code",
   "execution_count": 23,
   "id": "fe896f4d-0a32-452f-a26e-28cb13125da4",
   "metadata": {},
   "outputs": [
    {
     "data": {
      "text/html": [
       "<div>\n",
       "<style scoped>\n",
       "    .dataframe tbody tr th:only-of-type {\n",
       "        vertical-align: middle;\n",
       "    }\n",
       "\n",
       "    .dataframe tbody tr th {\n",
       "        vertical-align: top;\n",
       "    }\n",
       "\n",
       "    .dataframe thead th {\n",
       "        text-align: right;\n",
       "    }\n",
       "</style>\n",
       "<table border=\"1\" class=\"dataframe\">\n",
       "  <thead>\n",
       "    <tr style=\"text-align: right;\">\n",
       "      <th></th>\n",
       "      <th>model</th>\n",
       "      <th>RMSE_train</th>\n",
       "      <th>RMSE_validate</th>\n",
       "      <th>R2_validate</th>\n",
       "    </tr>\n",
       "  </thead>\n",
       "  <tbody>\n",
       "    <tr>\n",
       "      <th>0</th>\n",
       "      <td>mean_baseline</td>\n",
       "      <td>261678.338683</td>\n",
       "      <td>257877.499525</td>\n",
       "      <td>0.000000</td>\n",
       "    </tr>\n",
       "    <tr>\n",
       "      <th>1</th>\n",
       "      <td>OLS Regressor</td>\n",
       "      <td>227888.186467</td>\n",
       "      <td>227808.448776</td>\n",
       "      <td>0.219555</td>\n",
       "    </tr>\n",
       "    <tr>\n",
       "      <th>2</th>\n",
       "      <td>Lars lasso</td>\n",
       "      <td>227888.186500</td>\n",
       "      <td>227808.367727</td>\n",
       "      <td>0.219556</td>\n",
       "    </tr>\n",
       "    <tr>\n",
       "      <th>3</th>\n",
       "      <td>Tweedie Regressor</td>\n",
       "      <td>228178.978055</td>\n",
       "      <td>228669.660824</td>\n",
       "      <td>0.213630</td>\n",
       "    </tr>\n",
       "    <tr>\n",
       "      <th>4</th>\n",
       "      <td>quadratic</td>\n",
       "      <td>227591.949132</td>\n",
       "      <td>227857.601363</td>\n",
       "      <td>0.219209</td>\n",
       "    </tr>\n",
       "  </tbody>\n",
       "</table>\n",
       "</div>"
      ],
      "text/plain": [
       "               model     RMSE_train  RMSE_validate  R2_validate\n",
       "0      mean_baseline  261678.338683  257877.499525     0.000000\n",
       "1      OLS Regressor  227888.186467  227808.448776     0.219555\n",
       "2         Lars lasso  227888.186500  227808.367727     0.219556\n",
       "3  Tweedie Regressor  228178.978055  228669.660824     0.213630\n",
       "4          quadratic  227591.949132  227857.601363     0.219209"
      ]
     },
     "execution_count": 23,
     "metadata": {},
     "output_type": "execute_result"
    }
   ],
   "source": [
    "m.compare_models(x_train, y_train, x_val, y_val, x_test, y_test)"
   ]
  },
  {
   "cell_type": "markdown",
   "id": "85e876ba-796d-4eb9-9e52-396055fe8968",
   "metadata": {},
   "source": [
    "- Looking at all the models the LASSO LARS has the better R2 score and RMSE\n",
    "- Going to test on the lars lasso"
   ]
  },
  {
   "cell_type": "markdown",
   "id": "5a6cf86e-d62a-47f3-bef4-41ed396fad2e",
   "metadata": {},
   "source": [
    "## Lasso Lars on test data"
   ]
  },
  {
   "cell_type": "code",
   "execution_count": 24,
   "id": "a878b195-f694-4462-884e-3de181734c7e",
   "metadata": {},
   "outputs": [
    {
     "name": "stdout",
     "output_type": "stream",
     "text": [
      "RMSE for OLS using LinearRegression\n",
      "    Test_rmse:  232019.98015367152 \n",
      "    R2: 0.2277632211116306\n"
     ]
    }
   ],
   "source": [
    "m.test_model(x_train, y_train, x_val, y_val, x_test, y_test)"
   ]
  },
  {
   "cell_type": "markdown",
   "id": "038de41a-0c12-4000-9a88-bf166efdb2d6",
   "metadata": {},
   "source": [
    "# Model Summary"
   ]
  },
  {
   "cell_type": "markdown",
   "id": "4212f7ce-4fa7-4021-b67b-c1cf836b80c6",
   "metadata": {},
   "source": [
    "- All models preformed higher then the baseline\n",
    "- Overall, it seems that the OLS Regressor and Lasso Lars models are the best performers based on RMSE values, while all four models seem to be performing similarly based on R2 values.\n",
    "- I decided to evaluate the Lasso Lars model, as it displayed a slightly superior performance compared to OLS Rgressor model."
   ]
  },
  {
   "cell_type": "markdown",
   "id": "9f2ee93b-ff47-4346-aaf5-85398c65629a",
   "metadata": {},
   "source": [
    "# Conclusions"
   ]
  },
  {
   "cell_type": "markdown",
   "id": "7bb66dde-bb7c-4a7a-b110-8bde979a415d",
   "metadata": {},
   "source": [
    "## Exploration\n",
    "- The correlation between the features and the target variable is relatively low, with the highest correlation being 43% for the feature 'area'. However, it is worth noting that the correlation between 'bathrooms' and 'area' is surprisingly high at 80%. "
   ]
  },
  {
   "cell_type": "markdown",
   "id": "575c9cee-f5cd-4bbc-9a3c-6f72058ef2cc",
   "metadata": {},
   "source": [
    "## Modeling\n",
    "- Models preformed very simularly \n",
    "- Lars lasso and OLS regressor were the best preformers based on the RMSE and R2 score"
   ]
  },
  {
   "cell_type": "markdown",
   "id": "6d41957e-ace9-4caf-bb10-695fbfe06fe7",
   "metadata": {},
   "source": [
    "# Reccomendations\n",
    "- Although models preformed better than the baseline ,using the three features alone \n",
    "    for modeling proved to be low preforming. I reccomend to use more features for developing higher preforming models \n"
   ]
  },
  {
   "cell_type": "markdown",
   "id": "6af6e406-cffd-4fed-afd6-e983d5469446",
   "metadata": {},
   "source": [
    "# Next Steps\n",
    "- explore more features for modeling\n",
    "- develope different models specificly for each fips code \n"
   ]
  }
 ],
 "metadata": {
  "kernelspec": {
   "display_name": "Python 3 (ipykernel)",
   "language": "python",
   "name": "python3"
  },
  "language_info": {
   "codemirror_mode": {
    "name": "ipython",
    "version": 3
   },
   "file_extension": ".py",
   "mimetype": "text/x-python",
   "name": "python",
   "nbconvert_exporter": "python",
   "pygments_lexer": "ipython3",
   "version": "3.9.13"
  }
 },
 "nbformat": 4,
 "nbformat_minor": 5
}
